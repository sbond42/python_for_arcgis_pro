{
 "cells": [
  {
   "cell_type": "markdown",
   "id": "35f635de",
   "metadata": {},
   "source": [
    "# An Introduction to Python for ArcGIS Pro\n",
    "\n",
    "In this course, we'll be learning to extend and automate the functionality of ArcGIS Pro with the Python programming language. Programming can be an intimidating prospect if you've never done it before (or even if you have!), but it's an incredibly powerful and useful skill to have and well worth the effort it takes to learn. We'll start with a quick trip through the fundamentals of Python and work toward building a custom Script Tool. Along the way we'll learn how to use Python for a number of common ArcGIS Pro workflows. The topics we'll be covering are:\n",
    "\n",
    "- Fundamentals of Python\n",
    "- Using ArcPy to list and describe GIS datasets\n",
    "- Using ArcPy to run geoprocessing tools and manipulate geospatial data\n",
    "- Building custom Script Tools"
   ]
  },
  {
   "cell_type": "markdown",
   "id": "5173b02d",
   "metadata": {},
   "source": [
    "## 1 Fundamentals of Python"
   ]
  },
  {
   "cell_type": "markdown",
   "id": "7f270beb",
   "metadata": {},
   "source": [
    "To start, we'll need to know some Python basics. This is not meant to be a comprehensive introduction to the language, but it will be enough to get us started. We'll get more practice with these concepts as we go along."
   ]
  },
  {
   "cell_type": "markdown",
   "id": "56478efd",
   "metadata": {},
   "source": [
    "### 1.1 Using this Notebook"
   ]
  },
  {
   "cell_type": "markdown",
   "id": "55c2aabc",
   "metadata": {},
   "source": [
    "We'll be using this Jupyter/ArcGIS Notebook for the duration of the course. There are certainly other ways to run Python (some of which are described in a PDF document in the same repository as this notebook), but this is great for many purposes and perfect for our current needs. \n",
    "\n",
    "ArcGIS/Jupyter notebooks are made up of cells that can contain Markdown text (what you're reading now) or code, and the contents of cells can be executed by:\n",
    "- Ctrl+Enter (run the current cell and keep it selected)\n",
    "- Shift + Enter (run the current cell and move the selection to the next cell)\n",
    "- Run button in top toolbar\n",
    "- Cell -> Run Cells (or any of the other options in that menu)\n",
    "\n",
    "We can just type an expression into a notebook cell, execute the cell, and see the expression evaluated as output. This is similar to the standard Python read-eval-print-loop (REPL). Try this below:"
   ]
  },
  {
   "cell_type": "code",
   "execution_count": null,
   "id": "2f315561",
   "metadata": {},
   "outputs": [],
   "source": [
    "10 + 5"
   ]
  },
  {
   "cell_type": "markdown",
   "id": "5520f7b4",
   "metadata": {},
   "source": [
    "*Notice how a number appears in the brackets next to the cell you just ran. This tells you both that you've run the cell and what order you ran it in relative to other cells in the notebook.*\n",
    "\n",
    "If you enter multiple lines of this kind of input into a cell, only the last line will be evaluated.\n",
    "\n",
    "More often, you'll be using a cell to contain more standard code:"
   ]
  },
  {
   "cell_type": "code",
   "execution_count": null,
   "id": "4227768f",
   "metadata": {},
   "outputs": [],
   "source": [
    "for i in [1,2,3]:\n",
    "    j = 10\n",
    "    k = i + j\n",
    "    print(f\"{i} plus {j} equals {k}\")"
   ]
  },
  {
   "cell_type": "markdown",
   "id": "c772e960",
   "metadata": {},
   "source": [
    "Note that we're using the `print()` function to specify output in the above case. You can put values between the parentheses and they will output below the code cell once it's executed. Things like `print(5)` or `print(\"GIS is neat\")` will work."
   ]
  },
  {
   "cell_type": "markdown",
   "id": "072d01f6",
   "metadata": {
    "solution2": "hidden",
    "solution2_first": true
   },
   "source": [
    "One last thing before we get started: We'll be using a notebook extension for a few exercises below. If you can see a green button that says \"Show Solution\" directly below, you're good to go. If you see a notebook cell with some text in it instead, you'll need to take a couple of steps before we move on."
   ]
  },
  {
   "cell_type": "code",
   "execution_count": null,
   "id": "cf73a6df",
   "metadata": {
    "solution2": "hidden"
   },
   "outputs": [],
   "source": [
    "# If you had to click on a green button to see this text, everything is good!\n",
    "\n",
    "# If there wasn't a green button, click on Edit in the notebook menu and select \n",
    "# \"nbextensions config\" from the very bottom. Click the checkbox next to \"Exercise2\", \n",
    "# close the nbextensions window, and restart this notebook. You should then see the\n",
    "# green button."
   ]
  },
  {
   "cell_type": "markdown",
   "id": "3839f3b5",
   "metadata": {},
   "source": [
    "### 1.2 Comments"
   ]
  },
  {
   "cell_type": "markdown",
   "id": "5100ee2b",
   "metadata": {},
   "source": [
    "Comments are a way of adding lines of text to our code that won't execute. These can be a handy way of documenting our code and making it easier to understand. It's often best to use comments to describe parts of the code that are more difficult to immediately understand. Try to providing useful information without writing a novel!\n",
    "\n",
    "Try executing the code in the cell below:"
   ]
  },
  {
   "cell_type": "code",
   "execution_count": null,
   "id": "0e7ed199",
   "metadata": {},
   "outputs": [],
   "source": [
    "#The following code prints out 'Hello World'\n",
    "\n",
    "print('Hello World')"
   ]
  },
  {
   "cell_type": "markdown",
   "id": "72ae648f",
   "metadata": {},
   "source": [
    "See how none of the text following the # (pound sign/hashtag) was printed out? Anything after the # in a line of code is considered a comment by the Python interpreter. We can add a comment above a section of code, like we did above, or add it to a line of code. The example below shows both options:"
   ]
  },
  {
   "cell_type": "code",
   "execution_count": null,
   "id": "120fba24",
   "metadata": {},
   "outputs": [],
   "source": [
    "#Convert feet to inches\n",
    "\n",
    "f = 20 #measurement in feet\n",
    "i = f*12 #measurement in inches\n",
    "print (f\"{f} feet is {i} inches\")"
   ]
  },
  {
   "cell_type": "markdown",
   "id": "de366b90",
   "metadata": {},
   "source": [
    "Once again, nothing after the `#` had any effect on the code output. What if we want multiple lines of comments?"
   ]
  },
  {
   "cell_type": "code",
   "execution_count": null,
   "id": "ed839588",
   "metadata": {},
   "outputs": [],
   "source": [
    "#This program reads data from an input text file and outputs summary metrics\n",
    "#Version 1.0.0\n",
    "#Septmeber 1st, 2023\n",
    "#Contact Stephen Bond for assistance or updates"
   ]
  },
  {
   "cell_type": "markdown",
   "id": "9cfd2a95",
   "metadata": {},
   "source": [
    "### 1.3 Variables"
   ]
  },
  {
   "cell_type": "markdown",
   "id": "2f4b9b37",
   "metadata": {},
   "source": [
    "A variable is a name that is assigned to a value so that value can be stored in the computer's memory. The name essentially represents the value. For instance:"
   ]
  },
  {
   "cell_type": "code",
   "execution_count": null,
   "id": "cc6c3554",
   "metadata": {},
   "outputs": [],
   "source": [
    "x = 17\n",
    "print(x)"
   ]
  },
  {
   "cell_type": "markdown",
   "id": "770b82e8",
   "metadata": {},
   "source": [
    "In the above example, we've assigned the value of `17` to the variable `x`. To assign a value to a variable, we use `=` (the equal sign, also know as an assignment token). `x = 17` is an example of an **assignment statement**. Assigning a value to a variable can be referred to as defining a variable or declaring a variable.\n",
    "\n",
    "The variable must always be on the left side of the `=`. `17 = x` will not work. Either `x = 17` or `x=17` (no spaces around the `=`) will work, but the former is typically easier to read. \n",
    "\n",
    "Once we've assigned a value to a variable, we can use that variable in our code in place of the value. \n",
    "\n",
    "In a standard .py file, we can use a variable below where we assigned a value to it, within a given scope. The code runs top to bottom and we can't use a variable before we create it.\n",
    "\n",
    "Notebooks are a little weird: They have an understanding of \"top to bottom\" within a single notebook cell, but cells are related to each other by the order in which they are run. So we can define a variable in one cell and use it in another cell higher up in the notebook as long as we run them in that order.\n",
    "\n",
    "Let's take a look at this: What happens if we try to use a variable before we define it?"
   ]
  },
  {
   "cell_type": "code",
   "execution_count": null,
   "id": "e9892672",
   "metadata": {},
   "outputs": [],
   "source": [
    "print (y)\n",
    "\n",
    "y = \"Success!\""
   ]
  },
  {
   "cell_type": "markdown",
   "id": "1bf0455d",
   "metadata": {},
   "source": [
    "What happens if we try the print statement again?"
   ]
  },
  {
   "cell_type": "code",
   "execution_count": null,
   "id": "90860d3e",
   "metadata": {},
   "outputs": [],
   "source": [
    "print(y)"
   ]
  },
  {
   "cell_type": "markdown",
   "id": "a0d2fe62",
   "metadata": {},
   "source": [
    "Why did that happen?\n",
    "\n",
    "Ok, how about we try defining a variable and then using in in the next cell down?"
   ]
  },
  {
   "cell_type": "code",
   "execution_count": null,
   "id": "e00fd604",
   "metadata": {},
   "outputs": [],
   "source": [
    "y = \"Success!\""
   ]
  },
  {
   "cell_type": "code",
   "execution_count": null,
   "id": "5d975606",
   "metadata": {},
   "outputs": [],
   "source": [
    "print(y)"
   ]
  },
  {
   "cell_type": "markdown",
   "id": "12ac45da",
   "metadata": {},
   "source": [
    "That worked! Now let's try running the top example (where we tried to use a variable before defining it) again.\n",
    "\n",
    "Why did that work?\n",
    "\n",
    "Always keep this behavior in mind when using notebooks. It's best to keep everything well organized and run cells in order so you don't end up with variables having values you don't expect.\n"
   ]
  },
  {
   "cell_type": "markdown",
   "id": "74d4ef91",
   "metadata": {},
   "source": [
    "#### 1.3.1 Naming Variables"
   ]
  },
  {
   "cell_type": "markdown",
   "id": "0f59de88",
   "metadata": {},
   "source": [
    "There are some rules for naming variables in Python:\n",
    "\n",
    "- Don't start a name with a number. `1variable` will produce an error. It's perfectly acceptable to use numbers elsewhere, as in `variable1`\n",
    "\n",
    "- Don't use a Python keyword. Python reserves some words for use in its syntax and they can't be used as variable names. The full list can be found at https://docs.python.org/3.9/reference/lexical_analysis.html#keywords , but some examples are:\n",
    "    - True\n",
    "    - False\n",
    "    - and\n",
    "    - or\n",
    "    - if\n",
    "    - try\n",
    "    - with\n",
    "    - for\n",
    "    - def\n",
    "- Don't use special characters. `variable$$$` will produce an error.\n",
    "\n",
    "- Don't use spaces. `my variable` won't work.\n",
    "\n",
    "Beyond the rules, there are some naming conventions you should observe. Violating these won't break your code but it will make it harder to read:\n",
    "\n",
    "- Use underscores instead of camel case to clarify variable names: `my_variable` instead of `myVariable` (*Note*: Camel case is used when defining classes in Python, but not variables)\n",
    "\n",
    "- Avoid starting variables with underscores unless you really mean to. `_variable` doesn't have a specific meaning in the Python syntax but Python coders typically use it to indicate something specific (a private function)\n",
    "\n",
    "- Avoid using all caps for variable names. Similarly to the above convention, `VARIABLE` doesn't mean anything specific to Python, but it is generally used to indicate a global variable.\n",
    "\n",
    "- Extremely long or confusing variable names like `incredibly_specific_variable_name_for_a_short_list` or `bLaBlaNonSeNse3000` should be avoided. The idea is to make your code as clear and readable as possible, as well as easy to write (typing long variable names over and over is a bummer).\n",
    "\n",
    "- Try to make variables as descriptive as reasonably possible. If you're using a single input shapefile, `input_shapefile` or similar would work well.\n",
    "\n",
    "As your Python expertise grows, you'll get more comfortable with what makes a good variable name. For now, keeping these rules and conventions in mind will get you pointed in the right direction."
   ]
  },
  {
   "cell_type": "markdown",
   "id": "9406f65c",
   "metadata": {},
   "source": [
    "### 1.4 Built-in Data Types"
   ]
  },
  {
   "cell_type": "markdown",
   "id": "dae6c23d",
   "metadata": {},
   "source": [
    "Variables can store different types of data. The built-in data types in Python that we're going to be talking about are:\n",
    "\n",
    "- Number\n",
    "    - Integer\n",
    "    - Floating Point\n",
    "- Boolean\n",
    "- Text\n",
    "    - String\n",
    "- Sequence\n",
    "    - List\n",
    "\n",
    "There are others, but we'll talk about them if and when we need them.\n",
    "\n",
    "One bit of terminology here: Any specific instance of one of these data types is often referred to as an **object**. This has specific meaning that we don't need to consider at this point. For now it's fine to know that it's something with a specific type that you can do specific things with. If `x = \"some text\"`, we can say that x is a string object, for example.\n",
    "\n",
    "You can check the type of any variable with the `type()` function:"
   ]
  },
  {
   "cell_type": "code",
   "execution_count": null,
   "id": "8ef6e7b9",
   "metadata": {},
   "outputs": [],
   "source": [
    "my_list = [100, 200, 'Some Text']\n",
    "type(my_list)"
   ]
  },
  {
   "cell_type": "code",
   "execution_count": null,
   "id": "da150053",
   "metadata": {},
   "outputs": [],
   "source": [
    "type(my_list[2])"
   ]
  },
  {
   "cell_type": "markdown",
   "id": "9f7b0c40",
   "metadata": {},
   "source": [
    "#### 1.4.1 Numbers"
   ]
  },
  {
   "cell_type": "markdown",
   "id": "42106eda",
   "metadata": {},
   "source": [
    "We'll be dealing with the integer (int) and floating point (float) numeric data types. \n",
    "\n",
    "**Integers**\n",
    "- Whole numbers (1, 2, 3, 4, 1,000,000, etc.)\n",
    "- Effectively no limit on the size of an integer (other than system memory)\n",
    "- *int* in Python\n",
    "\n",
    "\n",
    "**Floating-Point Numbers**\n",
    "- Numbers with a decimal point (1.0, 2.5, 20.111111111, etc)\n",
    "- Can be represented in scientific notation (5.9e6 is the same as 5.9 x 10<sup>6</sup> is the same as 5,900,000)\n",
    "- *float* in Python\n",
    "\n",
    "We can use numbers for all of the things you'd expect, like math.\n",
    "- `+` is used for addition. Ex: `2+2`\n",
    "- `-` is used for subtraction. Ex: `10-5`\n",
    "- `*` is used for multiplication. Ex: `4*6`\n",
    "- `**` is used for exponentiation. Ex: `2**3`\n",
    "- `/` is used for standard division. Ex: `10/5`\n",
    "\n",
    "We can do this with integers:"
   ]
  },
  {
   "cell_type": "code",
   "execution_count": null,
   "id": "89c57617",
   "metadata": {},
   "outputs": [],
   "source": [
    "2+2"
   ]
  },
  {
   "cell_type": "code",
   "execution_count": null,
   "id": "82545888",
   "metadata": {},
   "outputs": [],
   "source": [
    "10-5"
   ]
  },
  {
   "cell_type": "code",
   "execution_count": null,
   "id": "b542da52",
   "metadata": {},
   "outputs": [],
   "source": [
    "4*6"
   ]
  },
  {
   "cell_type": "markdown",
   "id": "fe6b5c65",
   "metadata": {},
   "source": [
    "... or with floats:"
   ]
  },
  {
   "cell_type": "code",
   "execution_count": null,
   "id": "fae1ef1d",
   "metadata": {},
   "outputs": [],
   "source": [
    "2.0+2.5"
   ]
  },
  {
   "cell_type": "code",
   "execution_count": null,
   "id": "7ae32256",
   "metadata": {},
   "outputs": [],
   "source": [
    "2.0*2.5"
   ]
  },
  {
   "cell_type": "markdown",
   "id": "f75a7492",
   "metadata": {},
   "source": [
    "Mixing floats and integers will always result in a float:"
   ]
  },
  {
   "cell_type": "code",
   "execution_count": null,
   "id": "20317434",
   "metadata": {},
   "outputs": [],
   "source": [
    "2*2.5"
   ]
  },
  {
   "cell_type": "markdown",
   "id": "86b8f069",
   "metadata": {},
   "source": [
    "Similarly, standard division will always result in a float, even when done on two integers:"
   ]
  },
  {
   "cell_type": "code",
   "execution_count": null,
   "id": "06cc6df2",
   "metadata": {},
   "outputs": [],
   "source": [
    "5/2"
   ]
  },
  {
   "cell_type": "markdown",
   "id": "ddd8efe3",
   "metadata": {},
   "source": [
    "Python includes two other division operators: floor division (`//`) and modulo (`%`). These can be very useful, but we won't need them in this workshop."
   ]
  },
  {
   "cell_type": "markdown",
   "id": "5211f2c7",
   "metadata": {},
   "source": [
    "#### 1.4.2 Boolean Values"
   ]
  },
  {
   "cell_type": "markdown",
   "id": "68e6cc31",
   "metadata": {},
   "source": [
    "The Boolean (bool) data type can only have one of two values: True or False. These values will be extremely important for a lot of what we're going to do in this course.\n",
    "\n",
    "Don't put quotes around True or False for a Boolean. That would make it a string."
   ]
  },
  {
   "cell_type": "code",
   "execution_count": null,
   "id": "cf357276",
   "metadata": {},
   "outputs": [],
   "source": [
    "print(type(True))\n",
    "print(type(False))"
   ]
  },
  {
   "cell_type": "markdown",
   "id": "ce9486f6",
   "metadata": {},
   "source": [
    "Certain expressions, using **logical operators**, in Python will return Boolean values. For instance, we can use less-than or greater-than signs: "
   ]
  },
  {
   "cell_type": "code",
   "execution_count": null,
   "id": "fdad28fe",
   "metadata": {},
   "outputs": [],
   "source": [
    "x = 12\n",
    "print(x<20)\n",
    "print(x>20)"
   ]
  },
  {
   "cell_type": "markdown",
   "id": "babc6e83",
   "metadata": {},
   "source": [
    "Less-than-or-equal-to and greater-than-or-equal-to can also be used:"
   ]
  },
  {
   "cell_type": "code",
   "execution_count": null,
   "id": "51fd1fbd",
   "metadata": {},
   "outputs": [],
   "source": [
    "print(x<=12)\n",
    "print(x>=12)"
   ]
  },
  {
   "cell_type": "markdown",
   "id": "268e4998",
   "metadata": {},
   "source": [
    "We can also test if something is equal to something else. Remember that a single equal sign (`=`) is what we use to assign a value to a variable. Since that's already in use, we use 2 equal signs (`==`) to test equivalence:"
   ]
  },
  {
   "cell_type": "code",
   "execution_count": null,
   "id": "4eddd63c",
   "metadata": {},
   "outputs": [],
   "source": [
    "print(x==20)\n",
    "print(x==12)"
   ]
  },
  {
   "cell_type": "markdown",
   "id": "f72ce92f",
   "metadata": {},
   "source": [
    "`!=` means not equal to. It's the opposite of `==`."
   ]
  },
  {
   "cell_type": "code",
   "execution_count": null,
   "id": "87a3f18b",
   "metadata": {},
   "outputs": [],
   "source": [
    "print(x!=20)\n",
    "print(x!=12)"
   ]
  },
  {
   "cell_type": "markdown",
   "id": "60d24867",
   "metadata": {},
   "source": [
    "#### 1.4.3 Strings"
   ]
  },
  {
   "cell_type": "markdown",
   "id": "3f84ff66",
   "metadata": {},
   "source": [
    "Text in Python is stored in **strings** (also known as string literals), which are sequences of characters. We've already seen a lot of these throughout this notebook. A string is defined by surrounding single or double quotation marks (or even triple quotes, which are typically only used in special circumstances), like so:"
   ]
  },
  {
   "cell_type": "code",
   "execution_count": null,
   "id": "81b14a97",
   "metadata": {},
   "outputs": [],
   "source": [
    "print(\"This is a string\")\n",
    "print('This is also a string')\n",
    "print('''Yep, still a string''')"
   ]
  },
  {
   "cell_type": "markdown",
   "id": "9ac6c34d",
   "metadata": {},
   "source": [
    "An interesting characteristic of strings defined with triple-quotes is that they can be broken up over many lines:"
   ]
  },
  {
   "cell_type": "code",
   "execution_count": null,
   "id": "142707a6",
   "metadata": {},
   "outputs": [],
   "source": [
    "long_str = '''It is a period of civil war.\n",
    "Rebel spaceships, striking\n",
    "from a hidden base, have won\n",
    "their first victory against\n",
    "the evil Galactic Empire.\n",
    "'''\n",
    "\n",
    "print(long_str)"
   ]
  },
  {
   "cell_type": "markdown",
   "id": "91caa9fa",
   "metadata": {},
   "source": [
    "*Note: If you just want to break up a long string in your code for the sake of readability, but not necessarily print it to separate lines, you can do it with backslashes (`\\`):*"
   ]
  },
  {
   "cell_type": "code",
   "execution_count": null,
   "id": "2c4e732d",
   "metadata": {},
   "outputs": [],
   "source": [
    "long_string = \"It is a period of civil war. \\\n",
    "Rebel spaceships, striking \\\n",
    "from a hidden base, have won \\\n",
    "their first victory against \\\n",
    "the evil Galactic Empire.\"\n",
    "\n",
    "print(long_string)"
   ]
  },
  {
   "cell_type": "markdown",
   "id": "7cead211",
   "metadata": {},
   "source": [
    "Suppose we'd like to break up a line of text without using the triple quotes option. We can use something called an **escape sequence** (or escape character / escape character sequence). The newline escape sequence is `\\n`. You can use it like this:"
   ]
  },
  {
   "cell_type": "code",
   "execution_count": null,
   "id": "59e71963",
   "metadata": {},
   "outputs": [],
   "source": [
    "print(\"I want this text to be on one line\\nI want this text to be on another\")"
   ]
  },
  {
   "cell_type": "markdown",
   "id": "1fab6fd4",
   "metadata": {},
   "source": [
    "There are other useful escape sequences, like tabs with `\\t`:"
   ]
  },
  {
   "cell_type": "code",
   "execution_count": null,
   "id": "f755a720",
   "metadata": {},
   "outputs": [],
   "source": [
    "print(\"These\\twords\\tare\\tall\\tseparated\\twith\\ttabs\")"
   ]
  },
  {
   "cell_type": "markdown",
   "id": "ae8818eb",
   "metadata": {},
   "source": [
    "Because quotes are used to define strings, you can run into issues if you want your text to have quotes in it. We can get around this by using different types of quotes (single or double) than are used around the string, or by using a quote escape sequence (`\\'` or `\\\"`):"
   ]
  },
  {
   "cell_type": "code",
   "execution_count": null,
   "id": "e295d9aa",
   "metadata": {},
   "outputs": [],
   "source": [
    "print('This text has \"quotes\" in it')\n",
    "\n",
    "print(\"I can add \\'single quotes\\' or \\\"double quotes\\\" to my string with escape sequences.\")"
   ]
  },
  {
   "cell_type": "markdown",
   "id": "1a5dd22e",
   "metadata": {},
   "source": [
    "You can assign strings to variables and even add them together. This is often called string **concatenation**:"
   ]
  },
  {
   "cell_type": "code",
   "execution_count": null,
   "id": "a16c8fa0",
   "metadata": {},
   "outputs": [],
   "source": [
    "first = \"G\"\n",
    "second = \"I\"\n",
    "third = \"S\"\n",
    "print(first + second + third)"
   ]
  },
  {
   "cell_type": "markdown",
   "id": "3a543fc2",
   "metadata": {},
   "source": [
    "Here's an example where we add spaces between words stored as variables:"
   ]
  },
  {
   "cell_type": "code",
   "execution_count": null,
   "id": "a5ef2c45",
   "metadata": {},
   "outputs": [],
   "source": [
    "first = \"GIS\"\n",
    "second = \"is\"\n",
    "third = \"better with Python\"\n",
    "print(first + \" \" + second + \" \" + third + \".\")"
   ]
  },
  {
   "cell_type": "markdown",
   "id": "e7ef8263",
   "metadata": {},
   "source": [
    "Perhaps a better way to do this is through the use of **f-strings**. An f-string has the letter f before the quotation marks around the string, and contains variables enclosed in curly brackets:"
   ]
  },
  {
   "cell_type": "code",
   "execution_count": null,
   "id": "9d211829",
   "metadata": {},
   "outputs": [],
   "source": [
    "fname = \"Stephen\"\n",
    "lname = \"Bond\"\n",
    "\n",
    "print(f\"{fname} {lname} is teaching this course.\")"
   ]
  },
  {
   "cell_type": "markdown",
   "id": "1ce39f77",
   "metadata": {},
   "source": [
    "You can also include expressions in an f-string:"
   ]
  },
  {
   "cell_type": "code",
   "execution_count": null,
   "id": "aa164687",
   "metadata": {},
   "outputs": [],
   "source": [
    "print(f\"There are {24*60*60} seconds in a day.\")"
   ]
  },
  {
   "cell_type": "markdown",
   "id": "19eba2f3",
   "metadata": {},
   "source": [
    "#### 1.4.4 Lists"
   ]
  },
  {
   "cell_type": "markdown",
   "id": "e9902f75",
   "metadata": {},
   "source": [
    "Lists are sequences of other objects. They have the following properties:\n",
    "\n",
    "- Lists are ordered: The position of an object in a list matters\n",
    "- Lists can contain any other type of object, and multiple types of objects\n",
    "- Lists can be accessed by index\n",
    "- Lists can be nested, so a list may contain other lists\n",
    "- Lists are mutable, which means their elements can be changed once created\n",
    "- Lists are dynamic, which means they can become larger or smaller once created\n",
    "\n",
    "A list can be created by surrounding a set of objects with square brackets (`[]`) and separating them with commas. Here's a simple example of a list containing integers:"
   ]
  },
  {
   "cell_type": "code",
   "execution_count": null,
   "id": "1f512d31",
   "metadata": {},
   "outputs": [],
   "source": [
    "my_list = [1,2,3,4,5]\n",
    "print(my_list)"
   ]
  },
  {
   "cell_type": "markdown",
   "id": "751f2a52",
   "metadata": {},
   "source": [
    "Here's an example with a variety of data types (int, float, str, and bool):\n"
   ]
  },
  {
   "cell_type": "code",
   "execution_count": null,
   "id": "b89f834c",
   "metadata": {},
   "outputs": [],
   "source": [
    "my_list = [1, 2.0, \"GIS\", True]\n",
    "print(my_list)"
   ]
  },
  {
   "cell_type": "markdown",
   "id": "2d8e5b94",
   "metadata": {},
   "source": [
    "Individual elements of a list are accessed through **indexing**. Each position in a list is numbered. Python uses zero-based indexing, meaning that the first position is numbered 0. Here's an example:"
   ]
  },
  {
   "cell_type": "code",
   "execution_count": null,
   "id": "98b729e0",
   "metadata": {},
   "outputs": [],
   "source": [
    "my_list = ['aardvark', 'bandicoot', 'coatimundi']\n",
    "print(my_list[0])\n",
    "print(my_list[1])\n",
    "print(my_list[2])"
   ]
  },
  {
   "cell_type": "markdown",
   "id": "323fa39d",
   "metadata": {},
   "source": [
    "Note that the final index position is one less than the length of the list because of zero-indexing (my_list has 3 elements, but the final index is 2).\n",
    "\n",
    "You can also index backwards. Confusingly enough, the last position in a list is `[-1]`, the second to last is `[-2]`, and so on:"
   ]
  },
  {
   "cell_type": "code",
   "execution_count": null,
   "id": "ffa9fd9a",
   "metadata": {},
   "outputs": [],
   "source": [
    "my_list = ['aardvark', 'bandicoot', 'coatimundi']\n",
    "print(my_list[-1])\n",
    "print(my_list[-2])\n",
    "print(my_list[-3])"
   ]
  },
  {
   "cell_type": "markdown",
   "id": "d57c0238",
   "metadata": {},
   "source": [
    "We can also get more than one part of a list at once through a method called **string slicing**. In its most basic form this looks like `my_list[start:stop]`. The stop value is non-inclusive, meaning you need to specify the position after the one you actually want to end on:"
   ]
  },
  {
   "cell_type": "code",
   "execution_count": null,
   "id": "b3a8f2c3",
   "metadata": {},
   "outputs": [],
   "source": [
    "river_list = ['Colorado', 'Guadalupe', 'Rio Grande', 'Nueces', 'Comal', 'Brazos']\n",
    "\n",
    "#Get the first 3 rivers\n",
    "print(river_list[0:3])"
   ]
  },
  {
   "cell_type": "markdown",
   "id": "0b042d2e",
   "metadata": {},
   "source": [
    "### 1.5 Using Functions and Methods"
   ]
  },
  {
   "cell_type": "markdown",
   "id": "f85306e4",
   "metadata": {},
   "source": [
    "**Functions** typically take some input, known as an **argument**, and produce some result, or **return value**. We've seen one of these a lot so far: `print()` is a function. When we give it an argument, like `\"Hello World\"`, it prints that value out on the screen. `print(\"Hello World\")` is known as a **function call**. Functions can have more than one argument or no arguments at all.\n",
    "\n",
    "**Methods** are functions associated with a **class**. A class is a template for creating a specific kind of object.  `str`, `float`, `list`, and `dict` are all classes. `\"Hello World\"` is an **instance** of the `str` class. Classes have **attributes** and **methods**. Attributes are the data stored in a class and methods are the things you can do with that data. They differ from functions in that you add them to the end of a variable of their associated class. This may all sound very complicated, and it is, but the important takeaway for now is that when you see something that looks like `my_string.lower()`, you're looking at a method. This syntax is known as **dot notation**.\n",
    "\n",
    "Let's look at a few common and useful examples:"
   ]
  },
  {
   "cell_type": "code",
   "execution_count": null,
   "id": "9c21b2a3",
   "metadata": {},
   "outputs": [],
   "source": [
    "len(\"Hello World\")"
   ]
  },
  {
   "cell_type": "markdown",
   "id": "67b7c78f",
   "metadata": {},
   "source": [
    "The above example is a function that prints out the length of a string. This also works on lists:"
   ]
  },
  {
   "cell_type": "code",
   "execution_count": null,
   "id": "6777be63",
   "metadata": {},
   "outputs": [],
   "source": [
    "my_list = [1,2,3,4,5]\n",
    "len(my_list)"
   ]
  },
  {
   "cell_type": "markdown",
   "id": "fae9b2c9",
   "metadata": {},
   "source": [
    "There are `upper` and `lower` string methods:"
   ]
  },
  {
   "cell_type": "code",
   "execution_count": null,
   "id": "8a8f2491",
   "metadata": {},
   "outputs": [],
   "source": [
    "my_string = \"Geographic Information Systems\"\n",
    "\n",
    "lower = my_string.lower()\n",
    "upper = my_string.upper()\n",
    "\n",
    "print(lower)\n",
    "print(upper)"
   ]
  },
  {
   "cell_type": "markdown",
   "id": "4ccf43e1",
   "metadata": {},
   "source": [
    "We can replace parts of a string with the `replace` method:"
   ]
  },
  {
   "cell_type": "code",
   "execution_count": null,
   "id": "bfbc18f1",
   "metadata": {},
   "outputs": [],
   "source": [
    "my_string = \"counties.txt\"\n",
    "\n",
    "csv_file = my_string.replace(\"txt\", \"csv\")\n",
    "filename = my_string.replace(\".txt\", \"\")\n",
    "\n",
    "print(csv_file)\n",
    "print(filename)"
   ]
  },
  {
   "cell_type": "markdown",
   "id": "a307c164",
   "metadata": {},
   "source": [
    "Minimum and maximum values in a list, both numeric and alphabetical, can be determined:"
   ]
  },
  {
   "cell_type": "code",
   "execution_count": null,
   "id": "e890c39a",
   "metadata": {},
   "outputs": [],
   "source": [
    "my_list = [1,2,3,4,5]\n",
    "\n",
    "print(min(my_list))\n",
    "print(max(my_list))"
   ]
  },
  {
   "cell_type": "code",
   "execution_count": null,
   "id": "999476db",
   "metadata": {},
   "outputs": [],
   "source": [
    "my_list = ['coatimundi', 'aardvark', 'bandicoot']\n",
    "print(min(my_list))\n",
    "print(max(my_list))"
   ]
  },
  {
   "cell_type": "markdown",
   "id": "4d0d5dc0",
   "metadata": {},
   "source": [
    "The `sort` method will sort a list in-place. (*Note: In-place means that the original list is altered. Use the sorted function if you don't want this behavior*):"
   ]
  },
  {
   "cell_type": "code",
   "execution_count": null,
   "id": "304148ea",
   "metadata": {},
   "outputs": [],
   "source": [
    "my_list.sort()\n",
    "print(my_list)"
   ]
  },
  {
   "cell_type": "markdown",
   "id": "76d2cec2",
   "metadata": {},
   "source": [
    "The `round` function will round a number to a specified number of decimal places:"
   ]
  },
  {
   "cell_type": "code",
   "execution_count": null,
   "id": "e4e241f9",
   "metadata": {},
   "outputs": [],
   "source": [
    "x = round(3.14159, 2)\n",
    "print(x)"
   ]
  },
  {
   "cell_type": "markdown",
   "id": "ddb0e58c",
   "metadata": {},
   "source": [
    "There are other useful functions that can be used to one data type into another. For instance, we can take the string representation of a number and convert it into a float value: "
   ]
  },
  {
   "cell_type": "code",
   "execution_count": null,
   "id": "05062b0f",
   "metadata": {},
   "outputs": [],
   "source": [
    "str_num = \"3.14\"\n",
    "flt_num = float(str_num)\n",
    "\n",
    "print(str_num)\n",
    "print(type(str_num))\n",
    "print(flt_num)\n",
    "print(type(flt_num))"
   ]
  },
  {
   "cell_type": "markdown",
   "id": "b1c6cbf3",
   "metadata": {},
   "source": [
    "We can convert floats to integers:"
   ]
  },
  {
   "cell_type": "code",
   "execution_count": null,
   "id": "2c4bfdd4",
   "metadata": {},
   "outputs": [],
   "source": [
    "x = 2.5\n",
    "int_x = int(x)\n",
    "\n",
    "print(x)\n",
    "print(type(x))\n",
    "print(int_x)\n",
    "print(type(int_x))"
   ]
  },
  {
   "cell_type": "markdown",
   "id": "500b4991",
   "metadata": {},
   "source": [
    "*Notice that this truncates the decimal portion of the float.*\n",
    "\n",
    "... and vice versa:"
   ]
  },
  {
   "cell_type": "code",
   "execution_count": null,
   "id": "a7723b23",
   "metadata": {},
   "outputs": [],
   "source": [
    "x = 2\n",
    "flt_x = float(x)\n",
    "\n",
    "print(x)\n",
    "print(type(x))\n",
    "print(flt_x)\n",
    "print(type(flt_x))"
   ]
  },
  {
   "cell_type": "markdown",
   "id": "7246237f",
   "metadata": {},
   "source": [
    "### 1.6 Conditionals"
   ]
  },
  {
   "cell_type": "markdown",
   "id": "ceafe624",
   "metadata": {},
   "source": [
    "Conditionals let us selectively run portions of our code. We can have our code branch down different paths depending on conditions we specify. They work testing whether a statement is true or false and executing different code based on the results of that test. Here's a very simple example:"
   ]
  },
  {
   "cell_type": "code",
   "execution_count": null,
   "id": "2385ab21",
   "metadata": {},
   "outputs": [],
   "source": [
    "x = 2\n",
    "\n",
    "if x > 5:\n",
    "    print(\"The value of x is greater than 5\")"
   ]
  },
  {
   "cell_type": "markdown",
   "id": "32c3c8e8",
   "metadata": {},
   "source": [
    "Nothing happened. Why? *Try changing the value of x so output is generated.*\n",
    "\n",
    "Note the syntax we're using here: The if statement ends with a colon, and the statement underneath that executes if the condition is met is indented. The if statement and the `print` line below it form a **compound statement**. It's all one instruction: if some condition is met, do a certain thing.\n",
    "\n",
    "Also note the indentation under the if statement. In many programming languages, indenting lines is simply a stylistic convention intended to increase readability. **In Python, indentation matters**. Python uses spaces for indentation. It's standard to add four spaces for each level of indentation (4 for the first indentation level, 8 for the next, and so on) but any number of spaces will work. The Tab key in Jupyter (and many other programs) will automatically add 4 spaces, so there's no need to use the space bar for this.\n",
    "\n",
    "Let's add some more code to make this more useful:"
   ]
  },
  {
   "cell_type": "code",
   "execution_count": null,
   "id": "09d3effc",
   "metadata": {},
   "outputs": [],
   "source": [
    "x = 2\n",
    "\n",
    "if x > 5:\n",
    "    print(\"The value of x is greater than 5\")\n",
    "else:\n",
    "    print(\"The value of x is less than or equal to 5\")"
   ]
  },
  {
   "cell_type": "markdown",
   "id": "4912eab2",
   "metadata": {},
   "source": [
    "With the addition of `else` we've got code that will execute whenever the condition we've specified isn't met. *Once again, try changing the value of x to see how the if-else logic works.**\n",
    "\n",
    "We can take this a bit further and add the `elif` clause:"
   ]
  },
  {
   "cell_type": "code",
   "execution_count": null,
   "id": "16c53957",
   "metadata": {},
   "outputs": [],
   "source": [
    "x = 2\n",
    "\n",
    "if x > 5:\n",
    "    print(\"The value of x is greater than 5\")\n",
    "elif x == 5:\n",
    "    print(\"The value of x is equal to 5\")\n",
    "else:\n",
    "    print(\"The value of x is less than 5\")"
   ]
  },
  {
   "cell_type": "markdown",
   "id": "2428bd71",
   "metadata": {},
   "source": [
    "This adds another condition to be tested for. If the condition in the `if` clause is false, the code will move on to the `elif` clause. If that condition is also not met, the code in the `else` clause will be executed. Any number of `elif` clauses can be used. Only one `if` clause and one `else` clause can be used.\n",
    "\n",
    "We can also nest our if statements, using multiple levels of indentation to indicate if statements that execute inside the context of another if statement:\n",
    "\n",
    "*Note the use of the find method in this example. It searches a string for a specified substring and returns the first index position of that substring if found. If not found, it returns -1.*"
   ]
  },
  {
   "cell_type": "code",
   "execution_count": null,
   "id": "68d41da7",
   "metadata": {},
   "outputs": [],
   "source": [
    "animal = \"black bear\"\n",
    "\n",
    "if animal.find(\"bear\") != -1:\n",
    "    print(\"This is a kind of bear. Here's what to do if it attacks:\")\n",
    "    if animal == \"black bear\":\n",
    "        print(\"Fight back. Resist urge to cuddle.\")\n",
    "    elif animal == \"brown bear\":\n",
    "        print(\"Play dead. Cuddling strongly discouraged.\")\n",
    "    elif animal == \"polar bear\":\n",
    "        print(\"Things can't get any worse, so why not try a cuddle.\")\n",
    "    else:\n",
    "        print(\"This is a bear I don't know about. I'm sorry for failing you.\")\n",
    "else:\n",
    "    print(\"I don't know anything about this animal. Ask me about bears or leave me alone.\")"
   ]
  },
  {
   "cell_type": "markdown",
   "id": "f148f7d8",
   "metadata": {},
   "source": [
    "### 1.7 Loops"
   ]
  },
  {
   "cell_type": "markdown",
   "id": "46e33842",
   "metadata": {},
   "source": [
    "Loops are a programming structure that allow you to repeat certain parts of your code until some condition is met or until all inputs into the loop are exhausted. The two types of loops available in Python are **while loops** and **for loops**. Generally, while loops are used when we need to stop a loop after a certain condition is met but don't know exactly how many iterations that will take. For loops are used when we know at the time we start the loop how many times we want to run through it. We're only going to be looking at for loops here:"
   ]
  },
  {
   "cell_type": "markdown",
   "id": "c9216e81",
   "metadata": {},
   "source": [
    "#### 1.7.1 For Loops"
   ]
  },
  {
   "cell_type": "markdown",
   "id": "01d87ddb",
   "metadata": {},
   "source": [
    "For loops are used when we know at the time we start the loop how many times we want to run through it:"
   ]
  },
  {
   "cell_type": "code",
   "execution_count": null,
   "id": "280c90ea",
   "metadata": {},
   "outputs": [],
   "source": [
    "for i in [1,2,3,4,5]:\n",
    "    print(f\"This for loop has run {i} time(s).\")"
   ]
  },
  {
   "cell_type": "markdown",
   "id": "66e9db60",
   "metadata": {},
   "source": [
    "Notice that the structure takes the form of `for <variable> in <object>`. For loops in Python always iterate over an object like a list, range, or even a string. From this, we can see that in some ways a string behaves like a list:"
   ]
  },
  {
   "cell_type": "code",
   "execution_count": null,
   "id": "44832d0d",
   "metadata": {},
   "outputs": [],
   "source": [
    "for i in \"GIS\":\n",
    "    print(i)"
   ]
  },
  {
   "cell_type": "markdown",
   "id": "e24919c9",
   "metadata": {},
   "source": [
    "The `range` function generates a range object that can be iterated over with a for loop:"
   ]
  },
  {
   "cell_type": "code",
   "execution_count": null,
   "id": "d7da71dd",
   "metadata": {},
   "outputs": [],
   "source": [
    "for i in range(1,11):\n",
    "    print(i)"
   ]
  },
  {
   "cell_type": "markdown",
   "id": "91160f69",
   "metadata": {},
   "source": [
    "It's also common to nest for loops:"
   ]
  },
  {
   "cell_type": "code",
   "execution_count": null,
   "id": "9983dcc2",
   "metadata": {},
   "outputs": [],
   "source": [
    "for i in [\"red\", \"orange\", \"green\"]:\n",
    "    for j in [\"fruits\", \"vegtables\"]:\n",
    "        print(i + \" \" + j)"
   ]
  },
  {
   "cell_type": "markdown",
   "id": "5c745297",
   "metadata": {},
   "source": [
    "See how this works? Each element of the second for loop is iterated through before the first for loop moves to its next element. Let's try combining this idea with conditionals:"
   ]
  },
  {
   "cell_type": "code",
   "execution_count": null,
   "id": "c34ef1e0",
   "metadata": {},
   "outputs": [],
   "source": [
    "# print the coordiantes of a straight line that interesects (0,0) and (10,10)\n",
    "\n",
    "for x in range(0,11):\n",
    "    for y in range(0,11):\n",
    "        if x==y:\n",
    "            print(f\"({x},{y})\")"
   ]
  },
  {
   "cell_type": "markdown",
   "id": "9e49f939",
   "metadata": {},
   "source": [
    "We can use the `range` and `len` functions to loop through two lists at once. We're really looping through index positions and then getting values out of each list based on that index:"
   ]
  },
  {
   "cell_type": "code",
   "execution_count": null,
   "id": "aaf78481",
   "metadata": {},
   "outputs": [],
   "source": [
    "cities = [\"Austin\", \"Olympia\", \"Santa Fe\"]\n",
    "states = [\"Texas\", \"Washington\", \"New Mexico\"]\n",
    "capitals = {}\n",
    "\n",
    "for i in range(0,len(cities)):\n",
    "    city = cities[i]\n",
    "    state = states[i]\n",
    "    print(f\"{city} is the capital of {state}.\")"
   ]
  },
  {
   "cell_type": "markdown",
   "id": "27f3f358",
   "metadata": {},
   "source": [
    "That's enough fundamentals to get us started. Let's move on to applying all this to ArcGIS Pro!"
   ]
  },
  {
   "cell_type": "markdown",
   "id": "effc1eb5",
   "metadata": {},
   "source": [
    "## 2 Exploring and Describing GIS Datasets with ArcPy"
   ]
  },
  {
   "cell_type": "markdown",
   "id": "5f13b74b",
   "metadata": {},
   "source": [
    "Now that we've learned a bit about the fundamentals of the Python language we can get started with ArcPy. ArcPy is a Python **package**, which is a set of Python **modules**. Modules contain Python functions, classes, and variables that can be used by importing the module. They're like libraries of reusable code that provide access to tons of useful tools. \n",
    "\n",
    "There are numerous modules that are part of a Python installation by default. These make up what is known as the Python Standard Library (documentation found here: https://docs.python.org/3/library/index.html#library-index). Many additional packages and modules are available through package repositories like PyPI or conda-forge (typically installed though *pip install* or *conda install*). Thankfully, we don't need to deal with any of this right now, as ArcPy and many other commonly used packages are already installed in the default ArcGIS Pro Python environment we're using.\n",
    "\n",
    "So, to use ArcPy we'll just need to import it:"
   ]
  },
  {
   "cell_type": "code",
   "execution_count": null,
   "id": "6a637894",
   "metadata": {},
   "outputs": [],
   "source": [
    "import arcpy"
   ]
  },
  {
   "cell_type": "markdown",
   "id": "e0518c53",
   "metadata": {},
   "source": [
    "If we're working inside ArcGIS Pro, there isn't a need to import ArcPy, as it's already imported by default. However, it's good practice to include the `import arcpy` statement at the top of our code if there's any chance it will be used outside of ArcGIS Pro (from the command prompt, Jupyter, IDLE, or some other IDE for instance).\n",
    "\n",
    "If we're not using the correct Python interpreter (the one that's installed with ArcGIS Pro), we'll get an error like this:\n",
    "\n",
    "`ImportError: No module named arcpy`\n",
    "\n",
    "To use ArcPy, we need to have an ArcGIS Pro license available. If we don't have one (if we haven't signed in to ArcGIS Pro, perhaps), we'll get an error like this:\n",
    "\n",
    "`RuntimeError: NotInitialized`"
   ]
  },
  {
   "cell_type": "markdown",
   "id": "9afcf056",
   "metadata": {},
   "source": [
    "### 2.1 Setting Our Workspace and Dealing With File Paths"
   ]
  },
  {
   "cell_type": "markdown",
   "id": "872951d6",
   "metadata": {},
   "source": [
    "One of the first things we want to do when using ArcPy is setting our workspace. This will be the location we retrieve data from and write data to, and most of the tools we use in our code will respect this setting.\n",
    "\n",
    "Before we do this, we need to understand a few things about file paths in Python. Python scripts or notebooks have a current working directory. We can get this by importing the `os` module from the Python Standard Library and using the `getcwd` function:"
   ]
  },
  {
   "cell_type": "code",
   "execution_count": null,
   "id": "42de0d53",
   "metadata": {},
   "outputs": [],
   "source": [
    "import os\n",
    "os.getcwd()"
   ]
  },
  {
   "cell_type": "markdown",
   "id": "1e8c5595",
   "metadata": {},
   "source": [
    "This should have printed the location that you're running this notebook from. We can reference file locations from this point, or as full file paths.\n",
    "\n",
    "Notice that the path above uses two backslashes instead of the customary single backslash. This is because a single backslash can create an escape sequence and cause undesired behavior:"
   ]
  },
  {
   "cell_type": "code",
   "execution_count": null,
   "id": "f18ecc97",
   "metadata": {},
   "outputs": [],
   "source": [
    "filepath = \"C:\\Temp\\newproject\\test\"\n",
    "print(filepath)"
   ]
  },
  {
   "cell_type": "markdown",
   "id": "fe292f33",
   "metadata": {},
   "source": [
    "In the example above, the `\\n` and `\\t` create newline and tab characters, respectively. This isn't what we want for file paths. To get around this, we can use single forward slashes (this is standard for Mac and Linux):"
   ]
  },
  {
   "cell_type": "code",
   "execution_count": null,
   "id": "30e9f333",
   "metadata": {},
   "outputs": [],
   "source": [
    "filepath = \"C:/Temp/GIS\"\n",
    "print(filepath)"
   ]
  },
  {
   "cell_type": "markdown",
   "id": "1ef87799",
   "metadata": {},
   "source": [
    "... or the double backslashes seen above:"
   ]
  },
  {
   "cell_type": "code",
   "execution_count": null,
   "id": "5e7abfc0",
   "metadata": {},
   "outputs": [],
   "source": [
    "filepath = \"C:\\\\Temp\\\\GIS\"\n",
    "print(filepath)"
   ]
  },
  {
   "cell_type": "markdown",
   "id": "7d18796e",
   "metadata": {},
   "source": [
    "Another, perhaps more convenient option is to use a **raw string**. An `r` in front of your string indicates that it should be read as-is with no escape sequences:"
   ]
  },
  {
   "cell_type": "code",
   "execution_count": null,
   "id": "95404698",
   "metadata": {},
   "outputs": [],
   "source": [
    "filepath = r\"C:\\Temp\\GIS\"\n",
    "print(filepath)"
   ]
  },
  {
   "cell_type": "markdown",
   "id": "ff219b6e",
   "metadata": {},
   "source": [
    "Any of the options above will work, but the raw string method is particularly great when we're copying a file path from Windows Explorer and want to just paste it directly into our code.\n",
    "\n",
    "Now let's set our workspace:"
   ]
  },
  {
   "cell_type": "code",
   "execution_count": null,
   "id": "56cf6b16",
   "metadata": {},
   "outputs": [],
   "source": [
    "arcpy.env.workspace = \"Data\""
   ]
  },
  {
   "cell_type": "markdown",
   "id": "8a72c1ab",
   "metadata": {},
   "source": [
    "The folder that contains this notebook also contains a Data folder. Since we can specify a file location relative to the current working directory, we only need to tell Python the name of this folder.\n",
    "\n",
    "We can verify that this is the correct workspace location by checking to make sure a dataset that we know is inside that folder exists in our workspace. We can do this with `arcpy.Exists`:"
   ]
  },
  {
   "cell_type": "code",
   "execution_count": null,
   "id": "7c84ed2e",
   "metadata": {},
   "outputs": [],
   "source": [
    "if arcpy.Exists(\"state.shp\"):\n",
    "    print(\"Your workspace is set correctly.\")\n",
    "else:\n",
    "    print(\"Your workspace is wrong.\")"
   ]
  },
  {
   "cell_type": "markdown",
   "id": "e5ceb897",
   "metadata": {},
   "source": [
    "#### 2.1.1 Other Environment Settings"
   ]
  },
  {
   "cell_type": "markdown",
   "id": "010f530d",
   "metadata": {},
   "source": [
    "There are many other environment settings we can set through ArcPy. Using the dir() function can give us a list of the available options:"
   ]
  },
  {
   "cell_type": "code",
   "execution_count": null,
   "id": "4cd7665e",
   "metadata": {},
   "outputs": [],
   "source": [
    "dir(arcpy.env)"
   ]
  },
  {
   "cell_type": "markdown",
   "id": "38d7f1fa",
   "metadata": {},
   "source": [
    "Descriptions of all these environment setting can be found at: https://pro.arcgis.com/en/pro-app/latest/arcpy/classes/env.htm\n",
    "\n",
    "One commonly used environment setting is arcpy.env.overwriteOutput. If this is set to False, we'll get an error every time your script tries to create a file that already exists. We'll often have to manually delete any output feature classes or shapefiles before running the script again. This may be the desired behavior for our script, but it can sometimes be a pain when testing things out. Setting arcpy.env.overwriteOutput to True lets us run our code repeatedly without \"already exists\" errors:"
   ]
  },
  {
   "cell_type": "code",
   "execution_count": null,
   "id": "e47274c2",
   "metadata": {},
   "outputs": [],
   "source": [
    "arcpy.env.overwriteOutput = True"
   ]
  },
  {
   "cell_type": "markdown",
   "id": "b0b60210",
   "metadata": {},
   "source": [
    "### 2.2 Describing Data"
   ]
  },
  {
   "cell_type": "markdown",
   "id": "add40dad",
   "metadata": {},
   "source": [
    "The various properties of different geospatial datasets will impact how we can use them in our scripts. ArcPy has two very similar ways of getting these properties from a geospatial data file. The first way is with `arcpy.Describe()`:"
   ]
  },
  {
   "cell_type": "code",
   "execution_count": null,
   "id": "b8dbcdd6",
   "metadata": {},
   "outputs": [],
   "source": [
    "arcpy.Describe(\"state.shp\")"
   ]
  },
  {
   "cell_type": "markdown",
   "id": "f44006c3",
   "metadata": {},
   "source": [
    "In a Notebook, we get all of the information about the dataset if we call this function. However, this is not the case if we use it in a .py script or from the command line. Even in a Notebook, we need a way to get a specific piece of this information. Using `arcpy.describe()` returns a Describe object:"
   ]
  },
  {
   "cell_type": "code",
   "execution_count": null,
   "id": "49202395",
   "metadata": {},
   "outputs": [],
   "source": [
    "desc = arcpy.Describe(\"state.shp\")\n",
    "type(desc)"
   ]
  },
  {
   "cell_type": "markdown",
   "id": "0966af0e",
   "metadata": {},
   "source": [
    "We can access various attributes of the dataset by using dot notation:"
   ]
  },
  {
   "cell_type": "code",
   "execution_count": null,
   "id": "b6325762",
   "metadata": {},
   "outputs": [],
   "source": [
    "print(desc.shapeType)"
   ]
  },
  {
   "cell_type": "markdown",
   "id": "529d98fd",
   "metadata": {},
   "source": [
    "Some information requires a little more work to get to. For instance, the spatial reference of attribute has its own name, well-known ID, and linear unit attributes.\n",
    "\n",
    "**Try using arcpy.Describe() to print the coordinate system name for airport.shp**"
   ]
  },
  {
   "cell_type": "code",
   "execution_count": null,
   "id": "b43eaf91",
   "metadata": {
    "solution2": "hidden",
    "solution2_first": true
   },
   "outputs": [],
   "source": [
    "# Try it here!\n",
    "\n",
    "\n",
    "\n",
    "\n",
    "\n"
   ]
  },
  {
   "cell_type": "code",
   "execution_count": null,
   "id": "fe584e27",
   "metadata": {
    "solution2": "hidden"
   },
   "outputs": [],
   "source": [
    "# Solution\n",
    "desc = arcpy.Describe(\"airport.shp\")\n",
    "sr = desc.SpatialReference\n",
    "print(sr.name)"
   ]
  },
  {
   "cell_type": "markdown",
   "id": "222b4080",
   "metadata": {},
   "source": [
    "We can get a great deal of useful information about a dataset's file location from `arcpy.Describe()`:"
   ]
  },
  {
   "cell_type": "code",
   "execution_count": null,
   "id": "de5dd38b",
   "metadata": {},
   "outputs": [],
   "source": [
    "desc = arcpy.Describe(\"airport.shp\")\n",
    "\n",
    "print(f\"dataType: \", desc.dataType)\n",
    "print(f\"extension: \", desc.extension)\n",
    "print(f\"path: \", desc.path)\n",
    "print(f\"catalogPath: \", desc.catalogPath)\n",
    "print(f\"file: \", desc.file)\n",
    "print(f\"baseName: \", desc.baseName)"
   ]
  },
  {
   "cell_type": "markdown",
   "id": "f8aece33",
   "metadata": {},
   "source": [
    "### 2.3 Listing Data"
   ]
  },
  {
   "cell_type": "markdown",
   "id": "8f6e6d2b",
   "metadata": {},
   "source": [
    "Getting a list of what data is available in our workspace is an important part of many AcrPy-based scripts. `arcpy.ListFeatureClasses()` is the tool we use for this:"
   ]
  },
  {
   "cell_type": "code",
   "execution_count": null,
   "id": "0a8eb751",
   "metadata": {},
   "outputs": [],
   "source": [
    "arcpy.ListFeatureClasses()"
   ]
  },
  {
   "cell_type": "markdown",
   "id": "e1505a8a",
   "metadata": {},
   "source": [
    "Let's go ahead and change our workspace to be the geodatabase in our data folder. The code below will make that switch and list the data in the new workspace. Only run this once:"
   ]
  },
  {
   "cell_type": "code",
   "execution_count": null,
   "id": "995b337c",
   "metadata": {},
   "outputs": [],
   "source": [
    "arcpy.env.workspace = \"Data/IntroToPython.gdb\"\n",
    "fclist = arcpy.ListFeatureClasses()\n",
    "print(fclist)"
   ]
  },
  {
   "cell_type": "markdown",
   "id": "30432ab8",
   "metadata": {},
   "source": [
    "This is a list of all the feature classes in the \"IntroToPython\" geodatabase. We can narrow things down a bit further with a wildcard search..."
   ]
  },
  {
   "cell_type": "code",
   "execution_count": null,
   "id": "203992f4",
   "metadata": {},
   "outputs": [],
   "source": [
    "fclist = arcpy.ListFeatureClasses(\"C*\")\n",
    "print(fclist)"
   ]
  },
  {
   "cell_type": "markdown",
   "id": "04750c2a",
   "metadata": {},
   "source": [
    "...or by feature type:\n",
    "\n",
    "*Note: feature_type is the second optional parameter for ListFeatureClasses() so we need to pass in an empty parameter for wild_card or identify feature type explicitly as the optional parameter.*"
   ]
  },
  {
   "cell_type": "code",
   "execution_count": null,
   "id": "cde91edf",
   "metadata": {},
   "outputs": [],
   "source": [
    "fclist = arcpy.ListFeatureClasses(\"\", \"point\")\n",
    "print(fclist)"
   ]
  },
  {
   "cell_type": "markdown",
   "id": "7b572dbd",
   "metadata": {},
   "source": [
    "`arcpy.ListRasters()` and `arcpy.ListFiles()` work similarly. The former will list all rasters in a workspace and the latter will list all files in a workspace, with output similar to os.listdir().\n",
    "\n",
    "`arcpy.ListWorkspaces()` will list all workspaces in your workspace. This may sound strange at first, but if you were to define a folder as your workspace, `arcpy.ListWorkspaces()`will return any subfolders or geodatabases contained in that folder.\n",
    "\n",
    "`arcpy.ListDatasets()` will return any datasets in a workspace.This is typically used for Feature Datasets, but will also return geometric networks, networks, raster catalogs, topologies, and others:"
   ]
  },
  {
   "cell_type": "code",
   "execution_count": null,
   "id": "1f92830c",
   "metadata": {},
   "outputs": [],
   "source": [
    "fdlist = arcpy.ListDatasets()\n",
    "print(fdlist)"
   ]
  },
  {
   "cell_type": "markdown",
   "id": "78f6f329",
   "metadata": {},
   "source": [
    "#### 2.3.1 Looping Through Lists of Geospatial Data"
   ]
  },
  {
   "cell_type": "markdown",
   "id": "1c691c8a",
   "metadata": {},
   "source": [
    "Since ArcPy data listing functions like `arcpy.ListFeatureClasses()` return a list, we can use for loops to run some process on every feature class in a workspace. The code below will loop through the feature classes in our geodatabase and print their names and coordinate systems:"
   ]
  },
  {
   "cell_type": "code",
   "execution_count": null,
   "id": "df24c0cf",
   "metadata": {},
   "outputs": [],
   "source": [
    "arcpy.env.workspace = \"Data/IntroToPython.gdb\"\n",
    "\n",
    "fcs = arcpy.ListFeatureClasses()\n",
    "\n",
    "for fc in fcs:\n",
    "    desc = arcpy.Describe(fc)\n",
    "    print(f\"{desc.baseName}: {desc.SpatialReference.name}\")"
   ]
  },
  {
   "cell_type": "markdown",
   "id": "fcd85903",
   "metadata": {},
   "source": [
    "Accessing feature classes inside a feature dataset can be done by passing the path of the dataset into `arcpy.ListFeatureClasses`:"
   ]
  },
  {
   "cell_type": "code",
   "execution_count": null,
   "id": "5d90c999",
   "metadata": {},
   "outputs": [],
   "source": [
    "for fd in arcpy.ListDatasets():\n",
    "    for fc in arcpy.ListFeatureClasses(feature_dataset = fd):\n",
    "        desc = arcpy.Describe(fc)\n",
    "        print(f\"{desc.baseName}: {desc.SpatialReference.name}\")"
   ]
  },
  {
   "cell_type": "markdown",
   "id": "ba084da4",
   "metadata": {},
   "source": [
    "Another method of iterating through geospatial data is `arcpy.da.Walk()`. The `da` means that the `Walk` function is contained within ArcPy's Data Access module. Let's switch back to our original workspace for this:"
   ]
  },
  {
   "cell_type": "code",
   "execution_count": null,
   "id": "b84dac91",
   "metadata": {},
   "outputs": [],
   "source": [
    "arcpy.env.workspace = \"Data\"\n",
    "\n",
    "walk = arcpy.da.Walk()\n",
    "for dirpath, dirnames, filenames in walk:\n",
    "    print(dirpath, dirnames, filenames)"
   ]
  },
  {
   "cell_type": "markdown",
   "id": "5d8973d5",
   "metadata": {},
   "source": [
    "This syntax is bit convoluted, but we're essentially walking down through the file structure of our workspace. In this case, `dirpath` is the file path we're listing files and directories/geodatabases/datasets in. `dirnames` is a list of directories inside our `dirpath`, and filenames is a list of files in that path. \n",
    "\n",
    "We start with our workspace as the first `dirpath` and see that it has one `dirname` (\"IntroToPython.gdb\") and several `filenames` (state.shp, etc.) in it. Then we move into \"IntoToPython.gdb\" and see that it includes the \"Transportation\" `dirname` and several `filenames` (airport, etc). We keep going deeper like this until we reach the bottom (each `dirpath` contains no `dirnames`).\n",
    "\n",
    "We can loop through variables we use in `arcpy.da.Walk()` to print a list of of every file contained in a directory and its subdirectories:"
   ]
  },
  {
   "cell_type": "code",
   "execution_count": null,
   "id": "116df790",
   "metadata": {},
   "outputs": [],
   "source": [
    "import os\n",
    "walk = arcpy.da.Walk()\n",
    "for dirpath, dirnames, filenames in walk:\n",
    "    for file in filenames:\n",
    "        print(os.path.join(dirpath, file))"
   ]
  },
  {
   "cell_type": "markdown",
   "id": "9674209e",
   "metadata": {},
   "source": [
    "#### 2.3.2 Listing Fields"
   ]
  },
  {
   "cell_type": "markdown",
   "id": "66df8a89",
   "metadata": {},
   "source": [
    "Listing the fields present in a feature class works a lot like listing the feature classes in a workspace, with few important differences:"
   ]
  },
  {
   "cell_type": "code",
   "execution_count": null,
   "id": "5909a533",
   "metadata": {},
   "outputs": [],
   "source": [
    "fields = arcpy.ListFields(\"county.shp\")\n",
    "print(fields)"
   ]
  },
  {
   "cell_type": "markdown",
   "id": "6f3148f9",
   "metadata": {},
   "source": [
    "Instead of returning a path, `arcpy.ListFields()` returns a list of Field objects. We need to do a little more work to access the data contained in these objects:"
   ]
  },
  {
   "cell_type": "code",
   "execution_count": null,
   "id": "6a9def70",
   "metadata": {},
   "outputs": [],
   "source": [
    "fields = arcpy.ListFields(\"city.shp\")\n",
    "for field in fields:\n",
    "    print(f\"{field.name} is a field of type {field.type} with a length of {field.length}\")"
   ]
  },
  {
   "cell_type": "markdown",
   "id": "d00d9338",
   "metadata": {},
   "source": [
    "It's fairly common to need a list of field names in a Python script. Since `arcpy.ListFields()` returns a list of field objects, this has to be built manually.\n",
    "\n",
    "**Try creating a list of all the field names for the City feature class inside IntroToPython.gdb**"
   ]
  },
  {
   "cell_type": "code",
   "execution_count": null,
   "id": "65073c26",
   "metadata": {
    "solution2": "hidden",
    "solution2_first": true
   },
   "outputs": [],
   "source": [
    "# Try it here!\n",
    "\n",
    "# Hint: the append method can be used to add an item to a list. If you have a list named \"field_names\",\n",
    "# you can add an item \"i\" to it with \"field_names.append(i)\"\n",
    "\n",
    "field_names = []"
   ]
  },
  {
   "cell_type": "code",
   "execution_count": null,
   "id": "90cbc850",
   "metadata": {
    "solution2": "hidden"
   },
   "outputs": [],
   "source": [
    "# Solution\n",
    "\n",
    "field_names = []\n",
    "\n",
    "for f in arcpy.ListFields(\"IntroToPython.gdb/City\"):\n",
    "    field_names.append(f.name)\n",
    "    \n",
    "print(field_names)"
   ]
  },
  {
   "cell_type": "markdown",
   "id": "007e4bbd",
   "metadata": {},
   "source": [
    "### 2.4 Spatial Reference Objects"
   ]
  },
  {
   "cell_type": "markdown",
   "id": "0b625358",
   "metadata": {},
   "source": [
    "It's worth giving a bit of extra consideration to spatial references before we move on. ArcPy handles spatial references as objects that can be passed into geoprocessing tools. To start, we can find the Spatial Reference defined in a projection file (part of a shapefile):\n",
    "\n",
    "*Note: When dealing with a projection file like this, the workspace environment setting isn't respected, so we need to use os.path.join to glue our workspace and projection file into a single usable file path.*"
   ]
  },
  {
   "cell_type": "code",
   "execution_count": null,
   "id": "dfb74386",
   "metadata": {},
   "outputs": [],
   "source": [
    "import os\n",
    "prjfile = os.path.join(arcpy.env.workspace, \"state.prj\")\n",
    "spatialref = arcpy.SpatialReference(prjfile)\n",
    "print(type(spatialref))\n",
    "print(spatialref.name)"
   ]
  },
  {
   "cell_type": "markdown",
   "id": "88559ace",
   "metadata": {},
   "source": [
    "We can see that passing a projection file into `arcpy.SpatialReference` creates a Spatial Reference object.\n",
    "\n",
    "Similarly, the name of a coordinate system can be used to create a Spatial Reference object:"
   ]
  },
  {
   "cell_type": "code",
   "execution_count": null,
   "id": "a8bc38ed",
   "metadata": {},
   "outputs": [],
   "source": [
    "sr = arcpy.SpatialReference(\"NAD 1983 StatePlane Texas Central FIPS 4203 (US Feet)\")\n",
    "\n",
    "print(type(sr))\n",
    "print(sr.name)"
   ]
  },
  {
   "cell_type": "markdown",
   "id": "5510d71c",
   "metadata": {},
   "source": [
    "In practice this can be a bit cumbersome, so it's common to work with a projection's Well-Known ID (WKID). We can get the WKID from an existing Spatial Reference object by accessing its Factory Code attribute:"
   ]
  },
  {
   "cell_type": "code",
   "execution_count": null,
   "id": "dab00119",
   "metadata": {},
   "outputs": [],
   "source": [
    "print(sr.factoryCode)"
   ]
  },
  {
   "cell_type": "markdown",
   "id": "44af1004",
   "metadata": {},
   "source": [
    "We can also set create a Spatial Reference Object using the WKID:"
   ]
  },
  {
   "cell_type": "code",
   "execution_count": null,
   "id": "e067b992",
   "metadata": {},
   "outputs": [],
   "source": [
    "sr = arcpy.SpatialReference(2277)\n",
    "print(sr.name)"
   ]
  },
  {
   "cell_type": "markdown",
   "id": "1fa7b41b",
   "metadata": {},
   "source": [
    "We can get a coordinate system's type (projected or geographic) and units of measure from a Spatial Reference object:"
   ]
  },
  {
   "cell_type": "code",
   "execution_count": null,
   "id": "7512b0ea",
   "metadata": {},
   "outputs": [],
   "source": [
    "print(sr.type)\n",
    "print(sr.linearUnitName)"
   ]
  },
  {
   "cell_type": "markdown",
   "id": "2751ad2b",
   "metadata": {},
   "source": [
    "ArcPy also allows us to search for coordinate systems using `arcpy.ListSpatialReferences()`:"
   ]
  },
  {
   "cell_type": "code",
   "execution_count": null,
   "id": "67ffbb67",
   "metadata": {},
   "outputs": [],
   "source": [
    "arcpy.ListSpatialReferences(\"*Texas Central*\", \"PCS\")"
   ]
  },
  {
   "cell_type": "markdown",
   "id": "b27aa6fe",
   "metadata": {},
   "source": [
    "The first argument in `arcpy.ListSpatialReferences()` is a wildcard search string. In the above example, we'll get any coordinate system name that contains the string \"Texas Central\". The optional second argument specifies the type of coordinate system we're looking for: \"GCS\" for geographic, and \"PCS\" for projected.\n",
    "\n",
    "We can use some set logic to narrow our search if we need to get more specific:\n",
    "\n",
    "*Note: sets are a data type in Python that are a lot like lists but can only contain one of each value. We're converting lists to sets here because that allows us to get the logical union of values in the initial lists.*"
   ]
  },
  {
   "cell_type": "code",
   "execution_count": null,
   "id": "08f578eb",
   "metadata": {},
   "outputs": [],
   "source": [
    "srs_tx = arcpy.ListSpatialReferences(\"*Texas Central*\")\n",
    "srs_sp = arcpy.ListSpatialReferences(\"*State Plane*\")\n",
    "srs_ft = arcpy.ListSpatialReferences(\"*Feet*\")\n",
    "\n",
    "srs = set(srs_tx) & set(srs_sp) & set(srs_ft)\n",
    "\n",
    "for sr in srs:\n",
    "    print(sr)"
   ]
  },
  {
   "cell_type": "markdown",
   "id": "f3e0d0ca",
   "metadata": {},
   "source": [
    "Information on all coordinate systems available in ArcGIS Pro can be found in two PDFs:\n",
    "\n",
    "- Projected: https://pro.arcgis.com/en/pro-app/latest/arcpy/classes/pdf/projected_coordinate_systems.pdf\n",
    "- Geographic: https://pro.arcgis.com/en/pro-app/latest/arcpy/classes/pdf/geographic_coordinate_systems.pdf"
   ]
  },
  {
   "cell_type": "markdown",
   "id": "74a7abba",
   "metadata": {},
   "source": [
    "## 3 Geoprocessing and Data Manipulation with Arcpy"
   ]
  },
  {
   "cell_type": "markdown",
   "id": "b383fb24",
   "metadata": {},
   "source": [
    "Now that we know a bit about accessing geospatial datasets with Python and ArcPy, it's time to take a look at how we actually can work those datasets. ArcPy acts as a wrapper around the geoprocessing tools we're used to using in ArcGIS Pro, giving us access to them in our code. We can also use cursors to access and edit our geospatial data at the feature level. These are both powerful tools for automating data analysis and management workflows."
   ]
  },
  {
   "cell_type": "markdown",
   "id": "5b78f900",
   "metadata": {},
   "source": [
    "### 3.1 Using Geoprocessing Tools"
   ]
  },
  {
   "cell_type": "markdown",
   "id": "8c4d104a",
   "metadata": {},
   "source": [
    "ArcPy gives us access to all of the geoprocessing tools available in ArcGIS Pro. Tools can be run from Python in two similar ways, through functions and through toolbox modules. Let's try running the Clip tool as a function:"
   ]
  },
  {
   "cell_type": "code",
   "execution_count": null,
   "id": "0871e19a",
   "metadata": {},
   "outputs": [],
   "source": [
    "arcpy.env.workspace = \"Data\"\n",
    "\n",
    "arcpy.Clip_analysis(\"Drought.shp\", \"State.shp\", \"Texas_Drought.shp\")"
   ]
  },
  {
   "cell_type": "markdown",
   "id": "948bb521",
   "metadata": {},
   "source": [
    "The syntax for calling a tool by it's function is `arcpy.<toolname_toolboxalias)(<parameters>)`.\n",
    "\n",
    "Alternately, we can call a tool from its associated toolbox module. The syntax for this follows the form `arcpy.<toolboxalias>.(toolname>(<parameters>)`. For the the clip tool, this looks like:"
   ]
  },
  {
   "cell_type": "code",
   "execution_count": null,
   "id": "844cc4e4",
   "metadata": {},
   "outputs": [],
   "source": [
    "arcpy.analysis.Clip(\"Drought.shp\", \"State.shp\", \"Texas_Drought.shp\")"
   ]
  },
  {
   "cell_type": "markdown",
   "id": "fe95d57f",
   "metadata": {},
   "source": [
    "Either of these methods is correct.\n",
    "\n",
    "Getting the parameter syntax correct is key to successfully running a geoprocessing tool. Every tool has a set of parameters it requires to function. We can find these by checking the online documentation for the tool. Let's take a look at the web page for the Clip tool:\n",
    "\n",
    "https://pro.arcgis.com/en/pro-app/latest/tool-reference/analysis/clip.htm\n",
    "\n",
    "Toward the bottom of the page, there is a \"Parameters\" section. If we click on the Python tab on the tabel in that section, we'll get a general idea about the required syntax. In this case, it looks like:\n",
    "\n",
    "`arcpy.analysis.Clip(in_features, clip_features, out_feature_class, {cluster_tolerance})`\n",
    "\n",
    "From this we can see that when we ran the Clip tool above, our parameters were:\n",
    "- in_features = \"Drought.shp\"\n",
    "- clip_features = \"State.shp\"\n",
    "- out_feature_class = \"Texas_Drought.shp\"\n",
    "\n",
    "Notice that the bottom of the Clip tool documentation contains code samples to demonstrate use of the tool in Python. If you're ever confused about how to make a particular geoprocessing tool work, a quick web search should give you access to the tool's official documentation.\n",
    "\n",
    "It's also worth noting that hitting the Tab key in Jupyter/ArcGIS notebook can help with code completion as well, though it won't give us much in the way of useful parameter syntax information. \n",
    "\n",
    "**Try finding information on the syntax for the Buffer tool, and run it on the State shapefile with a buffer distance of 100 miles.**"
   ]
  },
  {
   "cell_type": "code",
   "execution_count": null,
   "id": "65550199",
   "metadata": {
    "solution2": "hidden",
    "solution2_first": true
   },
   "outputs": [],
   "source": [
    "# Try it here!\n",
    "\n",
    "\n",
    "\n"
   ]
  },
  {
   "cell_type": "code",
   "execution_count": null,
   "id": "8307d0ba",
   "metadata": {
    "solution2": "hidden"
   },
   "outputs": [],
   "source": [
    "# Solution\n",
    "\n",
    "arcpy.analysis.Buffer(\"State.shp\", \"Texas_100mi_buffer\", \"100 MILES\")"
   ]
  },
  {
   "cell_type": "markdown",
   "id": "f2547f2e",
   "metadata": {},
   "source": [
    "A useful technique when working with geoprocessing tools is to define variables for our tool parameters. This lets us reuse parameters throughout our code and keep our geoprocessing tool calls short and easy to read. Variable names don't have to match tool parameter names, but they should be given meaningful names that make our code relatively easy to interpret:"
   ]
  },
  {
   "cell_type": "code",
   "execution_count": null,
   "id": "70e2ebdd",
   "metadata": {},
   "outputs": [],
   "source": [
    "infc =  \"Drought.shp\"\n",
    "clipfc = \"State.shp\"\n",
    "outfc = \"Texas_Drought.shp\"\n",
    "arcpy.analysis.Clip(infc, clipfc, outfc)"
   ]
  },
  {
   "cell_type": "markdown",
   "id": "4ba1d563",
   "metadata": {},
   "source": [
    "#### 3.1.1 Result Objects\n",
    "\n"
   ]
  },
  {
   "cell_type": "markdown",
   "id": "2794ecf1",
   "metadata": {},
   "source": [
    "ArcPy returns the output of a geoprocessing tool as a Result object. In the case where a tool outputs or modifies a feature class or shapefile, the Result object will contain the path to that output file. Other tools may produce a Result object that contains a sting, Boolean, or number. In the first example below, the `GetCount` geoprocessing tool returns the number of records in a specified dataset:"
   ]
  },
  {
   "cell_type": "code",
   "execution_count": null,
   "id": "855a6700",
   "metadata": {},
   "outputs": [],
   "source": [
    "cities_count = arcpy.management.GetCount(\"IntroToPython.gdb/City\")\n",
    "print(type(cities_count))\n",
    "print(cities_count)"
   ]
  },
  {
   "cell_type": "markdown",
   "id": "0677f75c",
   "metadata": {},
   "source": [
    "The Clip tool produces a new feature class of shapefile, so its Result object is a file path:"
   ]
  },
  {
   "cell_type": "code",
   "execution_count": null,
   "id": "fd0c8d4d",
   "metadata": {},
   "outputs": [],
   "source": [
    "tx_drought = arcpy.analysis.Clip(\"Drought.shp\", \"State.shp\", \"Texas_Drought.shp\")\n",
    "print(tx_drought)"
   ]
  },
  {
   "cell_type": "markdown",
   "id": "fb008dd0",
   "metadata": {},
   "source": [
    "The Result object from one tool can be used as an input to another tool, which allows us to conveniently string together geoprocessing tools for complex workflows. In the example below, we use Clip to get the major cities in Travis County, and then use GetCount on the output to count those cities:"
   ]
  },
  {
   "cell_type": "code",
   "execution_count": null,
   "id": "7bbb79ee",
   "metadata": {},
   "outputs": [],
   "source": [
    "travis_city = arcpy.analysis.Clip(\"IntroToPython.gdb/City\", \"TravisCounty.shp\", \"Travis_City.shp\")\n",
    "travis_city_count = arcpy.management.GetCount(travis_city)\n",
    "print(travis_city_count)"
   ]
  },
  {
   "cell_type": "markdown",
   "id": "500d2577",
   "metadata": {},
   "source": [
    "**Try using this method to Buffer the state boundary by 100 miles and Clip the drought data to the result**"
   ]
  },
  {
   "cell_type": "code",
   "execution_count": null,
   "id": "d7e35a6b",
   "metadata": {
    "solution2": "hidden",
    "solution2_first": true
   },
   "outputs": [],
   "source": [
    "# Try it here!\n",
    "\n",
    "\n",
    "\n"
   ]
  },
  {
   "cell_type": "code",
   "execution_count": null,
   "id": "f3df5774",
   "metadata": {
    "solution2": "hidden"
   },
   "outputs": [],
   "source": [
    "# Solution\n",
    "\n",
    "tx_buffer = arcpy.analysis.Buffer(\"State.shp\", \"Texas_100mi_buffer\", \"100 MILES\")\n",
    "arcpy.analysis.Clip(\"Drought.shp\", tx_buffer, \"Drought_100mi\")"
   ]
  },
  {
   "cell_type": "markdown",
   "id": "11ee1579",
   "metadata": {},
   "source": [
    "#### 3.1.2 More on Tool Parameters"
   ]
  },
  {
   "cell_type": "markdown",
   "id": "b9ca7bf6",
   "metadata": {},
   "source": [
    "As we've seen, the syntax for the Buffer geoprocessing tool looks like this:\n",
    "\n",
    "`arcpy.analysis.Buffer(in_features, out_feature_class, buffer_distance_or_field, {line_side}, {line_end_type}, {dissolve_option}, {dissolve_field}, {method})`\n",
    "\n",
    "The parameters in the curly brackets are optional, meaning the tool will still run if they're not specified. We run into a conundrum if we want to specify some of these optional parameters, but not all of them. For instance, if we want to dissolve all buffer polygons, we need to use the `dissolve_option` parameter:"
   ]
  },
  {
   "cell_type": "code",
   "execution_count": null,
   "id": "f2da8c02",
   "metadata": {},
   "outputs": [],
   "source": [
    "arcpy.analysis.Buffer(\"IntroToPython.gdb/City\", \"City_50mi_buffer\", \"50 MILES\", \"ALL\")"
   ]
  },
  {
   "cell_type": "markdown",
   "id": "e29cab7c",
   "metadata": {},
   "source": [
    "This gives an error because Python thinks we're trying to specify that the `line_side` parameter is \"ALL\". Without some additional syntax, parameters have to be passed into a function in the correct order. We have the option of skipping the optional parameters we don't want to use:"
   ]
  },
  {
   "cell_type": "code",
   "execution_count": null,
   "id": "ffdf2bf6",
   "metadata": {},
   "outputs": [],
   "source": [
    "arcpy.analysis.Buffer(\"IntroToPython.gdb/City\", \"City_50mi_buffer_dissolve\", \"50 MILES\", \"\", \"\", \"ALL\")"
   ]
  },
  {
   "cell_type": "markdown",
   "id": "205c753b",
   "metadata": {},
   "source": [
    "or:"
   ]
  },
  {
   "cell_type": "code",
   "execution_count": null,
   "id": "b9e89b3d",
   "metadata": {},
   "outputs": [],
   "source": [
    "arcpy.analysis.Buffer(\"IntroToPython.gdb/City\", \"Cities_50mi_buffer_dissolve\", \"50 MILES\", None, None, \"ALL\")"
   ]
  },
  {
   "cell_type": "markdown",
   "id": "78ebe8fb",
   "metadata": {},
   "source": [
    "We can also explicitly specify which parameter we're setting:"
   ]
  },
  {
   "cell_type": "code",
   "execution_count": null,
   "id": "947596cf",
   "metadata": {},
   "outputs": [],
   "source": [
    "arcpy.analysis.Buffer(\"IntroToPython.gdb/City\", \"Cities_50mi_buffer_dissolve\", \"50 MILES\", dissolve_option = \"ALL\")"
   ]
  },
  {
   "cell_type": "markdown",
   "id": "bab72d28",
   "metadata": {},
   "source": [
    "#### 3.1.3 Using Spatial Reference Objects"
   ]
  },
  {
   "cell_type": "markdown",
   "id": "9394ce15",
   "metadata": {},
   "source": [
    "We can use the geoprocessing tools available to us to create new spatial datasets or re-project existing ones. Doing this requires the use of the spatial data objects discussed above. We can pass a spatial reference object into `arcpy.management.CreateFeatureclass` to create an empty feature class with the specified projection:"
   ]
  },
  {
   "cell_type": "code",
   "execution_count": null,
   "id": "08913d64",
   "metadata": {},
   "outputs": [],
   "source": [
    "arcpy.env.workspace = \"Data\"\n",
    "\n",
    "sr = arcpy.SpatialReference(2277)\n",
    "out_path = arcpy.env.workspace\n",
    "out_name = \"empty_pt.shp\"\n",
    "\n",
    "arcpy.management.CreateFeatureclass(out_path, out_name, \"POINT\", spatial_reference=sr)"
   ]
  },
  {
   "cell_type": "markdown",
   "id": "1b85b9a7",
   "metadata": {},
   "source": [
    "Similarly, we can project an existing feature class to a new coordinate system using `arcpy.management.Project`:"
   ]
  },
  {
   "cell_type": "code",
   "execution_count": null,
   "id": "0747d7ab",
   "metadata": {},
   "outputs": [],
   "source": [
    "sr = arcpy.SpatialReference(3083)\n",
    "in_fc = \"Texas_Drought.shp\"\n",
    "out_fc = \"Texas_Drought_Projected.shp\"\n",
    "\n",
    "arcpy.management.Project(in_fc, out_fc, sr)"
   ]
  },
  {
   "cell_type": "markdown",
   "id": "582caa6a",
   "metadata": {},
   "source": [
    "#### 3.1.4 Using Geoprocessing Tools With Looping and Conditional Logic"
   ]
  },
  {
   "cell_type": "markdown",
   "id": "eff0cab1",
   "metadata": {},
   "source": [
    "ArcPy becomes most powerful when combined with other tools available in Python, especially the fundamental logical and looping abilities we looked at in the first section of this course. We can loop through a workspace and run geoprocessing tools on the data it contains only if it meets some criteria. In this case, we'll only project the data if it's a point feature class:"
   ]
  },
  {
   "cell_type": "code",
   "execution_count": null,
   "id": "5d10a88f",
   "metadata": {},
   "outputs": [],
   "source": [
    "arcpy.env.workspace = \"Data/IntroToPython.gdb\"\n",
    "\n",
    "sr = arcpy.SpatialReference(3083)\n",
    "\n",
    "fcs = arcpy.ListFeatureClasses()\n",
    "\n",
    "for fc in fcs:\n",
    "    desc = arcpy.Describe(fc)\n",
    "    if desc.shapeType == \"Point\":\n",
    "        out_fc = desc.baseName + \"_Projected\"\n",
    "        arcpy.management.Project(fc, out_fc, sr)"
   ]
  },
  {
   "cell_type": "markdown",
   "id": "3400f7ba",
   "metadata": {},
   "source": [
    "### 3.3 Cursors"
   ]
  },
  {
   "cell_type": "markdown",
   "id": "0cef070d",
   "metadata": {},
   "source": [
    "We can access individual rows of a geospataial dataset through the use of **cursors**. Cursor is a database-related term that refers to a way to access a specific set of rows in a table. In ArcPy, they give us the ability to search for and manipulate specific rows (or features) in geospatial dataset. We can use a **search cursor** to retrieve the rows of a feature class: "
   ]
  },
  {
   "cell_type": "code",
   "execution_count": null,
   "id": "c185a253",
   "metadata": {},
   "outputs": [],
   "source": [
    "with arcpy.da.SearchCursor(\"City\", [\"CITY_NM\", \"POP2020\"]) as cursor:\n",
    "    for row in cursor:\n",
    "        if row[1] != 0:\n",
    "            print(f\"{row[0]}: {row[1]}\")"
   ]
  },
  {
   "cell_type": "markdown",
   "id": "89f4e785",
   "metadata": {},
   "source": [
    "The syntax for `arcpy.da.SearchCursor()` is: \n",
    "\n",
    "`SearchCursor (in_table, field_names, {where_clause}, {spatial_reference}, {explode_to_points}, {sql_clause}, {datum_transformation})`\n",
    "\n",
    "The two required parameters are `in_table`, which is the dataset we're trying to get information from, and `field_names`, which is the field or fields in the dataset that will be returned by the cursor. If we only want to see a single field (as in the example above), we input that field name as a string. If we want to see more than one field, those field names should be passed into the cursor as a list of strings. The data that are returned can be accessed just like the elements of any other list.\n",
    "\n",
    "This is the first time we've used the `with` keyword in our code. This is called a **context manager** and it ensures that the file is properly closed, data locks are released, and iteration is reset to the top of the file when we're done running the code indented under it.\n",
    "\n",
    "An **insert cursor** adds new rows to the bottom of the dataset. The basic syntax of `arcpy.da.InsertCursor()` is similar to that of `arcpy.da.SearchCursor()`, but it uses less optional parameters:\n",
    "\n",
    "`InsertCursor (in_table, field_names, {datum_transformation}, {explicit})`\n",
    "\n",
    "The example below uses the `insertRow()` method to add some missing Highland Campus data to the ACC_Campus feature class:"
   ]
  },
  {
   "cell_type": "code",
   "execution_count": null,
   "id": "73701954",
   "metadata": {},
   "outputs": [],
   "source": [
    "with arcpy.da.InsertCursor(\"ACC_Campus\", [\"Code\", \"Name\"]) as cursor:\n",
    "    new_code = \"HLC\"\n",
    "    new_name = \"HIGHLAND CAMPUS\"\n",
    "    \n",
    "    cursor.insertRow([new_code, new_name])"
   ]
  },
  {
   "cell_type": "markdown",
   "id": "965e91f0",
   "metadata": {},
   "source": [
    "It's important to note that while we're adding rows to the feature class's table, we haven't populated them with any sort of geometry. We'll do that shortly.\n",
    "\n",
    "An **update cursor** allows us to make changes to existing rows in a dataset through the `updateRow()` method. The syntax for the update cursor is:\n",
    "\n",
    "`UpdateCursor (in_table, field_names, {where_clause}, {spatial_reference}, {explode_to_points}, {sql_clause}, {datum_transformation}, {explicit})`\n",
    "\n",
    "Let's add some more data to Highland Campus row:"
   ]
  },
  {
   "cell_type": "code",
   "execution_count": null,
   "id": "6c9300b3",
   "metadata": {},
   "outputs": [],
   "source": [
    "with arcpy.da.UpdateCursor(\"ACC_Campus\", [\"Code\", \"Address\", \"City\", \"Zip\"]) as cursor:\n",
    "    for row in cursor:\n",
    "        if row[0] == \"HLC\":\n",
    "            row[1] = \"6101 Airport Boulevard\"\n",
    "            row[2] = \"Austin\"\n",
    "            row[3] = 78752\n",
    "            cursor.updateRow(row)"
   ]
  },
  {
   "cell_type": "markdown",
   "id": "75a7cce3",
   "metadata": {},
   "source": [
    "Without the `if row[0] == \"HLC\"` conditional, the changes would be applied to every row in the dataset. The code below makes sure every campus has a Type value of \"Campus\" and a State value of \"TX\":"
   ]
  },
  {
   "cell_type": "code",
   "execution_count": null,
   "id": "7f7e264a",
   "metadata": {},
   "outputs": [],
   "source": [
    "with arcpy.da.UpdateCursor(\"ACC_Campus\", [\"Type\", \"State\"]) as cursor:\n",
    "    for row in cursor:\n",
    "        row[0] = \"Campus\"\n",
    "        row[1] = \"TX\"\n",
    "        cursor.updateRow(row)"
   ]
  },
  {
   "cell_type": "markdown",
   "id": "566d695b",
   "metadata": {},
   "source": [
    "Update cursors can also be used to delete rows in a dataset using the `deleteRow()` method:"
   ]
  },
  {
   "cell_type": "code",
   "execution_count": null,
   "id": "a9c4af4b",
   "metadata": {},
   "outputs": [],
   "source": [
    "with arcpy.da.UpdateCursor(\"ACC_Campus\", \"Code\") as cursor:\n",
    "    for row in cursor:\n",
    "        if row[0] == \"PIN\":\n",
    "            cursor.deleteRow()"
   ]
  },
  {
   "cell_type": "markdown",
   "id": "645b597a",
   "metadata": {},
   "source": [
    "#### 3.3.1 Geometry"
   ]
  },
  {
   "cell_type": "markdown",
   "id": "b8feb557",
   "metadata": {},
   "source": [
    "Whether a feature is a point, polyline, or polygon, it is made up of one or more vertices, each with at least X and Y coordinate values. Points, polylines, and polygons are known as **geometry objects** in ArcPy. We can access their vertices and other properties by using a **geometry token** in a cursor:"
   ]
  },
  {
   "cell_type": "code",
   "execution_count": null,
   "id": "5d72d299",
   "metadata": {},
   "outputs": [],
   "source": [
    "with arcpy.da.SearchCursor(\"ACC_Campus\", \"SHAPE@\") as cursor:\n",
    "    for row in cursor:\n",
    "        for point in row[0]:\n",
    "            x = point.X\n",
    "            y = point.Y\n",
    "            print(f\"{x}, {y}\")"
   ]
  },
  {
   "cell_type": "markdown",
   "id": "c885a94f",
   "metadata": {},
   "source": [
    "If we want to write a point to a feature class, we need to first construct a **geometry object**. We can do this with points, polylines, and polygons, but we'll stick with points for simplicity.\n",
    "\n",
    "We'll create a point geometry object for the ACC Highland Campus using WGS 1984 latitude and longitude coordinates. Since the feature class uses a different coordinate system, we'll need to use a spatial reference object to tell that point geometry constructor what to expect: "
   ]
  },
  {
   "cell_type": "code",
   "execution_count": null,
   "id": "a6a7f30c",
   "metadata": {},
   "outputs": [],
   "source": [
    "point = arcpy.Point(-97.715945, 30.327909)\n",
    "sr = arcpy.SpatialReference(4326)\n",
    "pointgeo = arcpy.PointGeometry(point, sr)"
   ]
  },
  {
   "cell_type": "markdown",
   "id": "f3031fe5",
   "metadata": {},
   "source": [
    "Now we can use an update cursor to add the point geometry to our existing Highland Campus data:"
   ]
  },
  {
   "cell_type": "code",
   "execution_count": null,
   "id": "c5911311",
   "metadata": {},
   "outputs": [],
   "source": [
    "with arcpy.da.UpdateCursor(\"ACC_Campus\", [\"Code\", \"SHAPE@\"]) as cursor:\n",
    "    for row in cursor:\n",
    "        if row[0] == \"HLC\":\n",
    "            row[1] = pointgeo\n",
    "            cursor.updateRow(row)"
   ]
  },
  {
   "cell_type": "markdown",
   "id": "d3778f1e",
   "metadata": {},
   "source": [
    "#### 3.3.2 Where Clause"
   ]
  },
  {
   "cell_type": "markdown",
   "id": "84b7b3da",
   "metadata": {},
   "source": [
    "We can use the optional `where_clause` parameter available in the search and update cursors to specify a subset of rows to return. This parameter is passed into the cursor as a SQL (structure query language) statement. SQL is used to perform operations on databases:"
   ]
  },
  {
   "cell_type": "code",
   "execution_count": null,
   "id": "9b92d5b0",
   "metadata": {},
   "outputs": [],
   "source": [
    "with arcpy.da.SearchCursor(\"ACC_Campus\", [\"Code\", \"Name\", \"Address\"], \"\"\"\"Code\"='NRG' OR \"Code\"='RVS'\"\"\") as cursor:\n",
    "    for row in cursor:\n",
    "        print(f\"{row[1]} is located at {row[2]}\")"
   ]
  },
  {
   "cell_type": "markdown",
   "id": "da2452c8",
   "metadata": {},
   "source": [
    "The syntax for `where_clause` probably looks pretty strange. Fields in the `where_clause` (Code in this case) must typically be delimited by double quotes and the string we're searching for (NRG and RVS in this case) must be delimited by single quotes. On top of this, the entire SQL statement must be passed into the cursor as a string. This leaves us with a few options. First, we can wrap the SQL statement in triple-quotes, as we did above. Second, we can use escape sequences for the double quotes we've got to include around the field name, like so:"
   ]
  },
  {
   "cell_type": "code",
   "execution_count": null,
   "id": "be18a682",
   "metadata": {},
   "outputs": [],
   "source": [
    "with arcpy.da.SearchCursor(\"ACC_Campus\", [\"Code\", \"Name\", \"City\"], \"\\\"Code\\\" = 'HYS'\") as cursor:\n",
    "    for row in cursor:\n",
    "        print(f\"{row[1]} is in {row[2]}\")"
   ]
  },
  {
   "cell_type": "markdown",
   "id": "e2630a6f",
   "metadata": {},
   "source": [
    "It should be noted that while fields from shapefiles and feature classes in file geodatabases must be delimited by double-quotes, we don't use any delimiters when dealing with fields from enterprise geodatabases. `arcpy.AddFieldDelimiters()` ensures that we're using the proper delimiters no matter what sort of dataset we're dealing with. We won't go into detail on that function here, but it's worth noting that it exists."
   ]
  },
  {
   "cell_type": "markdown",
   "id": "6ada1207",
   "metadata": {},
   "source": [
    "## 4 Creating Script Tools"
   ]
  },
  {
   "cell_type": "markdown",
   "id": "076c42fb",
   "metadata": {},
   "source": [
    "We won't be using the notebook for this final part of the course, as it requires setting things up in ArcGIS Pro. The code below selects a random subset of features from an input feature class and writes that subset out to a new feature class. This is what we'll be using to create our script tool. It will run here, but we're going to turn it into something much more user friendly:"
   ]
  },
  {
   "cell_type": "code",
   "execution_count": null,
   "id": "0570356d",
   "metadata": {},
   "outputs": [],
   "source": [
    "# Python script: random_sample_start.py\n",
    "# Author: Paul Zandbergen, modified by Stephen Bond\n",
    "# This script creates a random sample of input features based on\n",
    "# a specified count and saves the results as a new feature class.\n",
    "# This script is the initial version with no changes from the lecture demo.\n",
    "\n",
    "\n",
    "# Import modules.\n",
    "import arcpy\n",
    "import random\n",
    "\n",
    "# Set workspace\n",
    "arcpy.env.workspace = r\"Data\\IntroToPython.gdb\"\n",
    "\n",
    "# Set inputs and outputs. Inputfc can be a shapefile or geodatabase\n",
    "# feature class. Outcount cannot exceed the feature count of inputfc.\n",
    "inputfc = \"County\"\n",
    "outputfc = \"random\"\n",
    "outcount = 5\n",
    "\n",
    "# Create a list of all the IDs of the input features.\n",
    "inlist = []\n",
    "with arcpy.da.SearchCursor(inputfc, \"OID@\") as cursor:\n",
    "    for row in cursor:\n",
    "        id = row[0]\n",
    "        inlist.append(id)\n",
    "    \n",
    "# Create a random sample of IDs from the list of all IDs.\n",
    "randomlist = random.sample(inlist, outcount)\n",
    "\n",
    "# Use the random sample of IDs to create a new feature class.\n",
    "desc = arcpy.Describe(inputfc)\n",
    "fldname = desc.OIDFieldName\n",
    "sqlfield = arcpy.AddFieldDelimiters(inputfc, fldname)\n",
    "sqlexp = f\"{sqlfield} IN {tuple(randomlist)}\"\n",
    "arcpy.analysis.Select(inputfc, outputfc, sqlexp)"
   ]
  }
 ],
 "metadata": {
  "kernelspec": {
   "display_name": "Python 3 (ipykernel)",
   "language": "python",
   "name": "python3"
  },
  "language_info": {
   "codemirror_mode": {
    "name": "ipython",
    "version": 3
   },
   "file_extension": ".py",
   "mimetype": "text/x-python",
   "name": "python",
   "nbconvert_exporter": "python",
   "pygments_lexer": "ipython3",
   "version": "3.9.16"
  }
 },
 "nbformat": 4,
 "nbformat_minor": 5
}
