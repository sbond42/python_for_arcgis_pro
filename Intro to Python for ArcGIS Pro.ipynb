{
 "cells": [
  {
   "cell_type": "markdown",
   "id": "35f635de",
   "metadata": {},
   "source": [
    "# An Introduction to Python for ArcGIS Pro\n",
    "\n",
    "In this course, we'll be learning to extend and automate the functionality of ArcGIS Pro with the Python programming language. Programming can be an intimidating prospect if you've never done it before (or even if you have!), but it's an incredibly powerful and useful skill to have and well worth the effort it takes to learn. We'll start with a quick trip through the fundamentals of Python and work toward building a custom Script Tool. Along the way we'll learn how to use Python for a number of common ArcGIS Pro workflows. The topics we'll be covering are:\n",
    "\n",
    "- Fundamentals of Python\n",
    "- Using ArcPy to list and describe GIS datasets\n",
    "-"
   ]
  },
  {
   "cell_type": "markdown",
   "id": "5173b02d",
   "metadata": {},
   "source": [
    "## 1 Fundamentals of Python"
   ]
  },
  {
   "cell_type": "markdown",
   "id": "7f270beb",
   "metadata": {},
   "source": [
    "To start, we'll need to know some Python basics. This is not meant to be a comprehensive introduction to the language, but it will be enough to get us started. We'll get more practice with these concepts as we go along. More information on Python basics can be found in the Additional Resources section at the end of this notebook."
   ]
  },
  {
   "cell_type": "markdown",
   "id": "56478efd",
   "metadata": {},
   "source": [
    "### 1.1 Using this Notebook"
   ]
  },
  {
   "cell_type": "markdown",
   "id": "55c2aabc",
   "metadata": {},
   "source": [
    "We'll be using this Jupyter/ArcGIS Notebook for the duration of the course. There are certainly other ways to run Python (some of which are described in a PDF document in the same repository as this notebook), but this is great for many purposes and perfect for our current needs. \n",
    "\n",
    "ArcGIS/Jupyter notebooks are made up of cells that can contain Markdown text (what you're reading now) or code, and that the contents of cells can be executed by:\n",
    "- Ctrl+Enter (run the current cell and keep it selected)\n",
    "- Shift + Enter (run the current cell and move the selection to the next cell)\n",
    "- Run button in top toolbar\n",
    "- Cell -> Run Cells (or any of the other options in that menu)\n",
    "\n",
    "We can just type an expression into a notebook cell, execute the cell, and see the expression evaluated as output. This is similar to the standard Python read-eval-print-loop (REPL). Try this below:"
   ]
  },
  {
   "cell_type": "code",
   "execution_count": null,
   "id": "2f315561",
   "metadata": {},
   "outputs": [],
   "source": [
    "10 + 5"
   ]
  },
  {
   "cell_type": "markdown",
   "id": "5520f7b4",
   "metadata": {},
   "source": [
    "*Notice how a number appears in the brackets next to the cell you just ran. This tells you both that you've run the cell and what order you ran it in relative to other cells in the notebook.*\n",
    "\n",
    "If you enter multiple lines of this kind of input into a cell, only the last line will be evaluated.\n",
    "\n",
    "More often, you'll be using a cell to contain more standard code:"
   ]
  },
  {
   "cell_type": "code",
   "execution_count": null,
   "id": "4227768f",
   "metadata": {},
   "outputs": [],
   "source": [
    "for i in [1,2,3]:\n",
    "    j = 10\n",
    "    k = i + j\n",
    "    print(f\"{i} plus {j} equals {k}\")"
   ]
  },
  {
   "cell_type": "markdown",
   "id": "c772e960",
   "metadata": {},
   "source": [
    "Note that we're using the `print()` function to specify output in the above case. You can put values between the parentheses and they will output below the code cell once it's executed. Things like `print(5)` or `print(\"GIS is neat\")` will work."
   ]
  },
  {
   "cell_type": "markdown",
   "id": "3839f3b5",
   "metadata": {},
   "source": [
    "### 1.2 Comments"
   ]
  },
  {
   "cell_type": "markdown",
   "id": "5100ee2b",
   "metadata": {},
   "source": [
    "Comments are a way of adding lines of text to our code that won't execute. These can be a handy way of documenting our code and making it easier to understand. It's often best to use comments to describe parts of the code that are more difficult to immediately understand. Try to providing useful information without writing a novel!\n",
    "\n",
    "Try executing the code in the cell below:"
   ]
  },
  {
   "cell_type": "code",
   "execution_count": null,
   "id": "0e7ed199",
   "metadata": {},
   "outputs": [],
   "source": [
    "#The following code prints out 'Hello World'\n",
    "\n",
    "print('Hello World')"
   ]
  },
  {
   "cell_type": "markdown",
   "id": "72ae648f",
   "metadata": {},
   "source": [
    "See how none of the text following the # (pound sign/hashtag) was printed out? Anything after the # in a line of code is considered a comment by the Python interpreter. We can add a comment above a section of code, like we did above, or add it to a line of code. The example below shows both options:"
   ]
  },
  {
   "cell_type": "code",
   "execution_count": null,
   "id": "120fba24",
   "metadata": {},
   "outputs": [],
   "source": [
    "#Convert feet to inches\n",
    "\n",
    "f = 20 #measurement in feet\n",
    "i = f*12 #measurement in inches\n",
    "print (f\"{f} feet is {i} inches\")"
   ]
  },
  {
   "cell_type": "markdown",
   "id": "de366b90",
   "metadata": {},
   "source": [
    "Once again, nothing after the `#` had any effect on the code output. What if we want multiple lines of comments?"
   ]
  },
  {
   "cell_type": "code",
   "execution_count": null,
   "id": "ed839588",
   "metadata": {},
   "outputs": [],
   "source": [
    "#This program reads data from an input text file and outputs summary metrics\n",
    "#Version 1.0.0\n",
    "#Septmeber 1st, 2023\n",
    "#Contact Stephen Bond for assistance or updates"
   ]
  },
  {
   "cell_type": "markdown",
   "id": "9cfd2a95",
   "metadata": {},
   "source": [
    "### 1.3 Variables"
   ]
  },
  {
   "cell_type": "markdown",
   "id": "2f4b9b37",
   "metadata": {},
   "source": [
    "A variable is a name that is assigned to a value so that value can be stored in the computer's memory. The name essentially represents the value. For instance:"
   ]
  },
  {
   "cell_type": "code",
   "execution_count": null,
   "id": "cc6c3554",
   "metadata": {},
   "outputs": [],
   "source": [
    "x = 17\n",
    "print(x)"
   ]
  },
  {
   "cell_type": "markdown",
   "id": "770b82e8",
   "metadata": {},
   "source": [
    "In the above example, we've assigned the value of `17` to the variable `x`. To assign a value to a variable, we use `=` (the equal sign, also know as an assignment token). `x = 17` is an example of an **assignment statement**. Assigning a value to a variable can be referred to as defining a variable or declaring a variable.\n",
    "\n",
    "The variable must always be on the left side of the `=`. `17 = x` will not work. Either `x = 17` or `x=17` (no spaces around the `=`) will work, but the former is typically easier to read. \n",
    "\n",
    "Once we've assigned a value to a variable, we can use that variable in our code in place of the value. \n",
    "\n",
    "In a standard .py file, we can use a variable below where we assigned a value to it, within a given scope. The code runs top to bottom and we can't use a variable before we create it.\n",
    "\n",
    "Notebooks are a little weird: They have an understanding of \"top to bottom\" within a single notebook cell, but cells are related to each other by the order in which they are run. So we can define a variable in one cell and use it in another cell higher up in the notebook as long as we run them in that order.\n",
    "\n",
    "Let's take a look at this: What happens if we try to use a variable before we define it?"
   ]
  },
  {
   "cell_type": "code",
   "execution_count": null,
   "id": "e9892672",
   "metadata": {},
   "outputs": [],
   "source": [
    "print (y)\n",
    "\n",
    "y = \"Success!\""
   ]
  },
  {
   "cell_type": "markdown",
   "id": "1bf0455d",
   "metadata": {},
   "source": [
    "What happens if we try the print statement again?"
   ]
  },
  {
   "cell_type": "code",
   "execution_count": null,
   "id": "90860d3e",
   "metadata": {},
   "outputs": [],
   "source": [
    "print(y)"
   ]
  },
  {
   "cell_type": "markdown",
   "id": "a0d2fe62",
   "metadata": {},
   "source": [
    "Why did that happen?\n",
    "\n",
    "Ok, how about we try defining a variable and then using in in the next cell down?"
   ]
  },
  {
   "cell_type": "code",
   "execution_count": null,
   "id": "e00fd604",
   "metadata": {},
   "outputs": [],
   "source": [
    "y = \"Success!\""
   ]
  },
  {
   "cell_type": "code",
   "execution_count": null,
   "id": "5d975606",
   "metadata": {},
   "outputs": [],
   "source": [
    "print(y)"
   ]
  },
  {
   "cell_type": "markdown",
   "id": "12ac45da",
   "metadata": {},
   "source": [
    "That worked! Now let's try running the top example (where we tried to use a variable before defining it) again.\n",
    "\n",
    "Why did that work?\n",
    "\n",
    "Always keep this behavior in mind when using notebooks. It's best to keep everything well organized and run cells in order so you don't end up with variables having values you don't expect.\n"
   ]
  },
  {
   "cell_type": "markdown",
   "id": "74d4ef91",
   "metadata": {},
   "source": [
    "#### 1.3.1 Naming Variables"
   ]
  },
  {
   "cell_type": "markdown",
   "id": "0f59de88",
   "metadata": {},
   "source": [
    "There are some rules for naming variables in Python:\n",
    "\n",
    "- Don't start a name with a number. `1variable` will produce an error. It's perfectly acceptable to use numbers elsewhere, as in `variable1`\n",
    "\n",
    "- Don't use a Python keyword. Python reserves some words for use in its syntax and they can't be used as variable names. The full list can be found at https://docs.python.org/3.9/reference/lexical_analysis.html#keywords , but some examples are:\n",
    "    - True\n",
    "    - False\n",
    "    - and\n",
    "    - or\n",
    "    - if\n",
    "    - try\n",
    "    - with\n",
    "    - for\n",
    "    - def\n",
    "- Don't use special characters. `variable$$$` will produce an error.\n",
    "\n",
    "- Don't use spaces. `my variable` won't work.\n",
    "\n",
    "Beyond the rules, there are some naming conventions you should observe. Violating these won't break your code but it will make it harder to read:\n",
    "\n",
    "- Use underscores instead of camel case to clarify variable names: `my_variable` instead of `myVariable` (*Note*: Camel case is used when defining classes in Python, but not variables)\n",
    "\n",
    "- Avoid starting variables with underscores unless you really mean to. `_variable` doesn't have a specific meaning in the Python syntax but Python coders typically use it to indicate something specific (a private function)\n",
    "\n",
    "- Avoid using all caps for variable names. Similarly to the above convention, `VARIABLE` doesn't mean anything specific to Python, but it is generally used to indicate a global variable.\n",
    "\n",
    "- Extremely long or confusing variable names like `incredibly_specific_variable_name_for_a_short_list` or `bLaBlaNonSeNse3000` should be avoided. The idea is to make your code as clear and readable as possible, as well as easy to write (typing long variable names over and over is a bummer).\n",
    "\n",
    "- Try to make variables as descriptive as reasonably possible. If you're using a single input shapefile, `input_shapefile` or similar would work well.\n",
    "\n",
    "As your Python expertise grows, you'll get more comfortable with what makes a good variable name. For now, keeping these rules and conventions in mind will get you pointed in the right direction."
   ]
  },
  {
   "cell_type": "markdown",
   "id": "9406f65c",
   "metadata": {},
   "source": [
    "### 1.4 Built-in Data Types"
   ]
  },
  {
   "cell_type": "markdown",
   "id": "dae6c23d",
   "metadata": {},
   "source": [
    "Variables can store different types of data. The built-in data types in Python that we're going to be talking about are:\n",
    "\n",
    "- Number\n",
    "    - Integer\n",
    "    - Floating Point\n",
    "- Boolean\n",
    "- Text\n",
    "    - String\n",
    "- Sequence\n",
    "    - List\n",
    "\n",
    "There are others, but we'll talk about them if and when we need them.\n",
    "\n",
    "One bit of terminology here: Any specific instance of one of these data types is often referred to as an **object**. This has specific meaning that we'll dive into later, but for now just know that it's something with a specific type that you can do specific things with. If `x = \"some text\"`, we can say that x is a string object, for example.\n",
    "\n",
    "*Note: It's not necessary to completely understand this for the purposes of this course, but Python uses something called \"duck-typing\". This means that Python is less concerned about the type of variable than what you can do with that variable (It's a duck if it can quack). Python is also dynamically typed, which means types are associated with values at runtime. Some other languages are statically typed, meaning you must specify the data type when you define a variable. In Python, you can do `my_variable = 3`, whereas in C# you need to do `int my_variable = 3;`.* \n",
    "\n",
    "You can check the type of any variable with the `type()` function:"
   ]
  },
  {
   "cell_type": "code",
   "execution_count": null,
   "id": "8ef6e7b9",
   "metadata": {},
   "outputs": [],
   "source": [
    "my_list = [100, 200, 'Some Text']\n",
    "type(my_list)"
   ]
  },
  {
   "cell_type": "code",
   "execution_count": null,
   "id": "da150053",
   "metadata": {},
   "outputs": [],
   "source": [
    "type(my_list[2])"
   ]
  },
  {
   "cell_type": "markdown",
   "id": "9f7b0c40",
   "metadata": {},
   "source": [
    "#### 1.4.1 Numbers"
   ]
  },
  {
   "cell_type": "markdown",
   "id": "42106eda",
   "metadata": {},
   "source": [
    "We'll be dealing with the integer (int) and floating point (float) numeric data types. \n",
    "\n",
    "**Integers**\n",
    "- Whole numbers (1, 2, 3, 4, 1,000,000, etc.)\n",
    "- Effectively no limit on the size of an integer (other than system memory)\n",
    "- *int* in Python\n",
    "\n",
    "\n",
    "**Floating-Point Numbers**\n",
    "- Numbers with a decimal point (1.0, 2.5, 20.111111111, etc)\n",
    "- Can be represented in scientific notation (5.9e6 is the same as 5.9 x 10<sup>6</sup> is the same as 5,900,000)\n",
    "- *float* in Python\n",
    "\n",
    "We can use numbers for all of the things you'd expect, like math.\n",
    "- `+` is used for addition. Ex: `2+2`\n",
    "- `-` is used for subtraction. Ex: `10-5`\n",
    "- `*` is used for multiplication. Ex: `4*6`\n",
    "- `**` is used for exponentiation. Ex: `2**3`\n",
    "- `/` is used for standard division. Ex: `10/5`\n",
    "\n",
    "We can do this with integers:"
   ]
  },
  {
   "cell_type": "code",
   "execution_count": null,
   "id": "89c57617",
   "metadata": {},
   "outputs": [],
   "source": [
    "2+2"
   ]
  },
  {
   "cell_type": "code",
   "execution_count": null,
   "id": "82545888",
   "metadata": {},
   "outputs": [],
   "source": [
    "10-5"
   ]
  },
  {
   "cell_type": "code",
   "execution_count": null,
   "id": "b542da52",
   "metadata": {},
   "outputs": [],
   "source": [
    "4*6"
   ]
  },
  {
   "cell_type": "markdown",
   "id": "fe6b5c65",
   "metadata": {},
   "source": [
    "... or with floats:"
   ]
  },
  {
   "cell_type": "code",
   "execution_count": null,
   "id": "fae1ef1d",
   "metadata": {},
   "outputs": [],
   "source": [
    "2.0+2.5"
   ]
  },
  {
   "cell_type": "code",
   "execution_count": null,
   "id": "7ae32256",
   "metadata": {},
   "outputs": [],
   "source": [
    "2.0*2.5"
   ]
  },
  {
   "cell_type": "markdown",
   "id": "f75a7492",
   "metadata": {},
   "source": [
    "Mixing floats and integers will always result in a float:"
   ]
  },
  {
   "cell_type": "code",
   "execution_count": null,
   "id": "20317434",
   "metadata": {},
   "outputs": [],
   "source": [
    "2*2.5"
   ]
  },
  {
   "cell_type": "markdown",
   "id": "86b8f069",
   "metadata": {},
   "source": [
    "Similarly, standard division will always result in a float, even when done on two integers:"
   ]
  },
  {
   "cell_type": "code",
   "execution_count": null,
   "id": "06cc6df2",
   "metadata": {},
   "outputs": [],
   "source": [
    "5/2"
   ]
  },
  {
   "cell_type": "markdown",
   "id": "ddd8efe3",
   "metadata": {},
   "source": [
    "Python includes two other division operators: floor division (`//`) and modulo (`%`). These can be very useful, but we won't need them in this course."
   ]
  },
  {
   "cell_type": "markdown",
   "id": "5211f2c7",
   "metadata": {},
   "source": [
    "#### 1.4.2 Boolean Values"
   ]
  },
  {
   "cell_type": "markdown",
   "id": "68e6cc31",
   "metadata": {},
   "source": [
    "The Boolean (bool) data type can only have one of two values: True or False. These values will be extremely important for a lot of what we're going to do in this course.\n",
    "\n",
    "Don't put quotes around True or False for a Boolean. That would make it a string."
   ]
  },
  {
   "cell_type": "code",
   "execution_count": null,
   "id": "cf357276",
   "metadata": {},
   "outputs": [],
   "source": [
    "print(type(True))\n",
    "print(type(False))"
   ]
  },
  {
   "cell_type": "markdown",
   "id": "60d24867",
   "metadata": {},
   "source": [
    "#### 1.4.3 Strings"
   ]
  },
  {
   "cell_type": "markdown",
   "id": "3f84ff66",
   "metadata": {},
   "source": [
    "Text in Python is stored in **strings** (also known as string literals), which are sequences of characters. We've already seen a lot of these throughout this notebook. A string is defined by surrounding single or double quotation marks (or even triple quotes, which are typically only used in special circumstances), like so:"
   ]
  },
  {
   "cell_type": "code",
   "execution_count": null,
   "id": "81b14a97",
   "metadata": {},
   "outputs": [],
   "source": [
    "print(\"This is a string\")\n",
    "print('This is also a string')\n",
    "print('''Yep, still a string''')"
   ]
  },
  {
   "cell_type": "markdown",
   "id": "9ac6c34d",
   "metadata": {},
   "source": [
    "An interesting characteristic of strings defined with triple-quotes is that they can be broken up over many lines:"
   ]
  },
  {
   "cell_type": "code",
   "execution_count": null,
   "id": "142707a6",
   "metadata": {},
   "outputs": [],
   "source": [
    "long_str = '''It is a period of civil war.\n",
    "Rebel spaceships, striking\n",
    "from a hidden base, have won\n",
    "their first victory against\n",
    "the evil Galactic Empire.\n",
    "'''\n",
    "\n",
    "print(long_str)"
   ]
  },
  {
   "cell_type": "markdown",
   "id": "1a5dd22e",
   "metadata": {},
   "source": [
    "You can assign strings to variables and even add them together. This is often called string **concatenation**:"
   ]
  },
  {
   "cell_type": "code",
   "execution_count": null,
   "id": "a16c8fa0",
   "metadata": {},
   "outputs": [],
   "source": [
    "first = \"G\"\n",
    "second = \"I\"\n",
    "third = \"S\"\n",
    "print(first + second + third)"
   ]
  },
  {
   "cell_type": "markdown",
   "id": "3a543fc2",
   "metadata": {},
   "source": [
    "Here's an example where we add spaces between words stored as variables:"
   ]
  },
  {
   "cell_type": "code",
   "execution_count": null,
   "id": "a5ef2c45",
   "metadata": {},
   "outputs": [],
   "source": [
    "first = \"GIS\"\n",
    "second = \"is\"\n",
    "third = \"better with Python\"\n",
    "print(first + \" \" + second + \" \" + third + \".\")"
   ]
  },
  {
   "cell_type": "markdown",
   "id": "e7ef8263",
   "metadata": {},
   "source": [
    "Perhaps a better way to do this is through the use of **f-strings**. An f-string has the letter f before the quotation marks around the string, and contains variables enclosed in curly brackets:"
   ]
  },
  {
   "cell_type": "code",
   "execution_count": null,
   "id": "9d211829",
   "metadata": {},
   "outputs": [],
   "source": [
    "fname = \"Stephen\"\n",
    "lname = \"Bond\"\n",
    "\n",
    "print(f\"{fname} {lname} is teaching this course.\")"
   ]
  },
  {
   "cell_type": "markdown",
   "id": "1ce39f77",
   "metadata": {},
   "source": [
    "You can also include expressions in an f-string:"
   ]
  },
  {
   "cell_type": "code",
   "execution_count": null,
   "id": "aa164687",
   "metadata": {},
   "outputs": [],
   "source": [
    "print(f\"There are {24*60*60} seconds in a day.\")"
   ]
  },
  {
   "cell_type": "markdown",
   "id": "7921fcd2",
   "metadata": {},
   "source": [
    "*Note: If you just want to break up a long string in your code for the sake of readability, but not necessarily print it to separate lines, you can do it with backslashes (`\\`):*"
   ]
  },
  {
   "cell_type": "code",
   "execution_count": null,
   "id": "a45232ae",
   "metadata": {},
   "outputs": [],
   "source": [
    "long_string = \"It is a period of civil war. \\\n",
    "Rebel spaceships, striking \\\n",
    "from a hidden base, have won \\\n",
    "their first victory against \\\n",
    "the evil Galactic Empire.\"\n",
    "\n",
    "print(long_string)"
   ]
  },
  {
   "cell_type": "markdown",
   "id": "2812f12b",
   "metadata": {},
   "source": [
    "Suppose we'd like to break up a line of text without using the triple quotes option. We can use something called an **escape sequence** (or escape character / escape character sequence). The newline escape sequence is `\\n`. You can use it like this:"
   ]
  },
  {
   "cell_type": "code",
   "execution_count": null,
   "id": "329e4ff3",
   "metadata": {},
   "outputs": [],
   "source": [
    "print(\"I want this text to be on one line\\nI want this text to be on another\")"
   ]
  },
  {
   "cell_type": "markdown",
   "id": "ac420408",
   "metadata": {},
   "source": [
    "There are other useful escape sequences, like tabs with `\\t`:"
   ]
  },
  {
   "cell_type": "code",
   "execution_count": null,
   "id": "ae768a53",
   "metadata": {},
   "outputs": [],
   "source": [
    "print(\"These\\twords\\tare\\tall\\tseparated\\twith\\ttabs\")"
   ]
  },
  {
   "cell_type": "markdown",
   "id": "34bf44ee",
   "metadata": {},
   "source": [
    "Because quotes are used to define strings, you can run into issues if you want your text to have quotes in it. We can get around this by using different types of quotes (single or double) than are used around the string, or by using a quote escape sequence (`\\'` or `\\\"`):"
   ]
  },
  {
   "cell_type": "code",
   "execution_count": null,
   "id": "88fae689",
   "metadata": {},
   "outputs": [],
   "source": [
    "print('This text has \"quotes\" in it')\n",
    "\n",
    "print(\"I can add \\'single quotes\\' or \\\"double quotes\\\" to my string with escape sequences.\")"
   ]
  },
  {
   "cell_type": "markdown",
   "id": "19eba2f3",
   "metadata": {},
   "source": [
    "#### 1.4.4 Lists"
   ]
  },
  {
   "cell_type": "markdown",
   "id": "e9902f75",
   "metadata": {},
   "source": [
    "Lists are sequences of other objects. They have the following properties:\n",
    "\n",
    "- Lists are ordered: The position of an object in a list matters\n",
    "- Lists can contain any other type of object, and multiple types of objects\n",
    "- Lists can be accessed by index\n",
    "- Lists can be nested, so a list may contain other lists\n",
    "- Lists are mutable, which means their elements can be changed once created\n",
    "- Lists are dynamic, which means they can become larger or smaller once created\n",
    "\n",
    "A list can be created by surrounding a set of objects with square brackets (`[]`) and separating them with commas. Here's a simple example of a list containing integers:"
   ]
  },
  {
   "cell_type": "code",
   "execution_count": null,
   "id": "1f512d31",
   "metadata": {},
   "outputs": [],
   "source": [
    "my_list = [1,2,3,4,5]\n",
    "print(my_list)"
   ]
  },
  {
   "cell_type": "markdown",
   "id": "751f2a52",
   "metadata": {},
   "source": [
    "Here's an example with a variety of data types (int, float, str, and bool):\n"
   ]
  },
  {
   "cell_type": "code",
   "execution_count": null,
   "id": "b89f834c",
   "metadata": {},
   "outputs": [],
   "source": [
    "my_list = [1, 2.0, \"GIS\", True]\n",
    "print(my_list)"
   ]
  },
  {
   "cell_type": "markdown",
   "id": "56ae0eea",
   "metadata": {},
   "source": [
    "How about a nested list (list of lists)?"
   ]
  },
  {
   "cell_type": "code",
   "execution_count": null,
   "id": "0f1ebb79",
   "metadata": {},
   "outputs": [],
   "source": [
    "my_list = [[1,2,3],[4,5,6],[7,8,9]]\n",
    "print(my_list)"
   ]
  },
  {
   "cell_type": "markdown",
   "id": "2d8e5b94",
   "metadata": {},
   "source": [
    "Individual elements of a list are accessed through **indexing**. Each position in a list is numbered. Python uses zero-based indexing, meaning that the first position is numbered 0. Here's an example:"
   ]
  },
  {
   "cell_type": "code",
   "execution_count": null,
   "id": "98b729e0",
   "metadata": {},
   "outputs": [],
   "source": [
    "my_list = ['aardvark', 'bandicoot', 'coatimundi']\n",
    "print(my_list[0])\n",
    "print(my_list[1])\n",
    "print(my_list[2])"
   ]
  },
  {
   "cell_type": "markdown",
   "id": "323fa39d",
   "metadata": {},
   "source": [
    "Note that the final index position is one less than the length of the list because of zero-indexing (my_list has 3 elements, but the final index is 2).\n",
    "\n",
    "You can also index backwards. Confusingly enough, the last position in a list is `[-1]`, the second to last is `[-2]`, and so on:"
   ]
  },
  {
   "cell_type": "code",
   "execution_count": null,
   "id": "ffa9fd9a",
   "metadata": {},
   "outputs": [],
   "source": [
    "my_list = ['aardvark', 'bandicoot', 'coatimundi']\n",
    "print(my_list[-1])\n",
    "print(my_list[-2])\n",
    "print(my_list[-3])"
   ]
  },
  {
   "cell_type": "code",
   "execution_count": null,
   "id": "27c0a88e",
   "metadata": {},
   "outputs": [],
   "source": [
    "my_list = [[0,0,0],[0,0,1],[0,0,0]]\n",
    "print(my_list[1][2])"
   ]
  },
  {
   "cell_type": "markdown",
   "id": "d57c0238",
   "metadata": {},
   "source": [
    "In the above example, we're selecting from the main list (farthest outside brackets) first, then the sub-list. So, we're getting the value in index position 2 from the sub-list in index position 1.\n",
    "\n",
    "We can also get more than one part of a list at once through a method called **string slicing**. In its most basic form this looks like `my_list[start:stop]`. The stop value is non-inclusive, meaning you need to specify the position after the one you actually want to end on:"
   ]
  },
  {
   "cell_type": "code",
   "execution_count": null,
   "id": "b3a8f2c3",
   "metadata": {},
   "outputs": [],
   "source": [
    "river_list = ['Colorado', 'Guadalupe', 'Rio Grande', 'Nueces', 'Comal', 'Brazos']\n",
    "\n",
    "#Get the first 3 rivers\n",
    "print(river_list[0:3])"
   ]
  },
  {
   "cell_type": "markdown",
   "id": "0b042d2e",
   "metadata": {},
   "source": [
    "### 1.5 Using Functions and Methods"
   ]
  },
  {
   "cell_type": "markdown",
   "id": "f85306e4",
   "metadata": {},
   "source": [
    "**Functions** typically take some input, known as an **argument**, and produce some result, or **return value**. We've seen one of these a lot so far: `print()` is a function. When we give it an argument, like `\"Hello World\"`, it prints that value out on the screen. `print(\"Hello World\")` is known as a **function call**. Functions can have more than one argument or no arguments at all.\n",
    "\n",
    "**Methods** are functions associated with a **class**. A class is a template for creating a specific kind of object.  `str`, `float`, `list`, and `dict` are all classes. `\"Hello World\"` is an **instance** of the `str` class. Classes have **attributes** and **methods**. Attributes are the data stored in a class and methods are the things you can do with that data. They differ from functions in that you add them to the end of a variable of their associated class. This may all sound very complicated, and it is, but the important takeaway for now is that when you see something that looks like `my_string.lower()`, you're looking at a method. This syntax is known as **dot notation**.\n",
    "\n",
    "Let's look at a few common and useful examples:"
   ]
  },
  {
   "cell_type": "code",
   "execution_count": null,
   "id": "9c21b2a3",
   "metadata": {},
   "outputs": [],
   "source": [
    "len(\"Hello World\")"
   ]
  },
  {
   "cell_type": "markdown",
   "id": "67b7c78f",
   "metadata": {},
   "source": [
    "The above example is a function that prints out the length of a string. This also works on lists:"
   ]
  },
  {
   "cell_type": "code",
   "execution_count": null,
   "id": "6777be63",
   "metadata": {},
   "outputs": [],
   "source": [
    "my_list = [1,2,3,4,5]\n",
    "len(my_list)"
   ]
  },
  {
   "cell_type": "markdown",
   "id": "fae9b2c9",
   "metadata": {},
   "source": [
    "There are `upper` and `lower` string methods:"
   ]
  },
  {
   "cell_type": "code",
   "execution_count": null,
   "id": "8a8f2491",
   "metadata": {},
   "outputs": [],
   "source": [
    "my_string = \"Geographic Information Systems\"\n",
    "\n",
    "lower = my_string.lower()\n",
    "upper = my_string.upper()\n",
    "\n",
    "print(lower)\n",
    "print(upper)"
   ]
  },
  {
   "cell_type": "markdown",
   "id": "4ccf43e1",
   "metadata": {},
   "source": [
    "We can replace parts of a string with the `replace` method:"
   ]
  },
  {
   "cell_type": "code",
   "execution_count": null,
   "id": "bfbc18f1",
   "metadata": {},
   "outputs": [],
   "source": [
    "my_string = \"counties.txt\"\n",
    "\n",
    "csv_file = my_string.replace(\"txt\", \"csv\")\n",
    "filename = my_string.replace(\".txt\", \"\")\n",
    "\n",
    "print(csv_file)\n",
    "print(filename)"
   ]
  },
  {
   "cell_type": "markdown",
   "id": "a307c164",
   "metadata": {},
   "source": [
    "Minimum and maximum values in a list, both numeric and alphabetical, can be determined:"
   ]
  },
  {
   "cell_type": "code",
   "execution_count": null,
   "id": "e890c39a",
   "metadata": {},
   "outputs": [],
   "source": [
    "my_list = [1,2,3,4,5]\n",
    "\n",
    "print(min(my_list))\n",
    "print(max(my_list))"
   ]
  },
  {
   "cell_type": "code",
   "execution_count": null,
   "id": "999476db",
   "metadata": {},
   "outputs": [],
   "source": [
    "my_list = ['coatimundi', 'aardvark', 'bandicoot']\n",
    "print(min(my_list))\n",
    "print(max(my_list))"
   ]
  },
  {
   "cell_type": "markdown",
   "id": "4d0d5dc0",
   "metadata": {},
   "source": [
    "The `sort` method will sort a list in-place. (*Note: In-place means that the original list is altered. Use the sorted function if you don't want this behavior*):"
   ]
  },
  {
   "cell_type": "code",
   "execution_count": null,
   "id": "304148ea",
   "metadata": {},
   "outputs": [],
   "source": [
    "my_list.sort()\n",
    "print(my_list)"
   ]
  },
  {
   "cell_type": "markdown",
   "id": "ddb0e58c",
   "metadata": {},
   "source": [
    "There are other useful functions that can be used to one data type into another. For instance, we can take the string representation of a number and convert it into a float value: "
   ]
  },
  {
   "cell_type": "code",
   "execution_count": null,
   "id": "05062b0f",
   "metadata": {},
   "outputs": [],
   "source": [
    "str_num = \"3.14\"\n",
    "flt_num = float(str_num)\n",
    "\n",
    "print(str_num)\n",
    "print(type(str_num))\n",
    "print(flt_num)\n",
    "print(type(flt_num))"
   ]
  },
  {
   "cell_type": "markdown",
   "id": "b1c6cbf3",
   "metadata": {},
   "source": [
    "We can convert floats to integers:"
   ]
  },
  {
   "cell_type": "code",
   "execution_count": null,
   "id": "2c4bfdd4",
   "metadata": {},
   "outputs": [],
   "source": [
    "x = 2.5\n",
    "int_x = int(x)\n",
    "\n",
    "print(x)\n",
    "print(type(x))\n",
    "print(int_x)\n",
    "print(type(int_x))"
   ]
  },
  {
   "cell_type": "markdown",
   "id": "500b4991",
   "metadata": {},
   "source": [
    "*Notice that this truncates the decimal portion of the float.*\n",
    "\n",
    "... and vice versa:"
   ]
  },
  {
   "cell_type": "code",
   "execution_count": null,
   "id": "a7723b23",
   "metadata": {},
   "outputs": [],
   "source": [
    "x = 2\n",
    "flt_x = float(x)\n",
    "\n",
    "print(x)\n",
    "print(type(x))\n",
    "print(flt_x)\n",
    "print(type(flt_x))"
   ]
  },
  {
   "cell_type": "markdown",
   "id": "7246237f",
   "metadata": {},
   "source": [
    "### 1.6 Conditionals"
   ]
  },
  {
   "cell_type": "markdown",
   "id": "ceafe624",
   "metadata": {},
   "source": [
    "Conditionals let us selectively run portions of our code. We can have our code branch down different paths depending on conditions we specify. They work testing whether a statement is true or false and executing different code based on the results of that test. Here's a very simple example:"
   ]
  },
  {
   "cell_type": "code",
   "execution_count": null,
   "id": "2385ab21",
   "metadata": {},
   "outputs": [],
   "source": [
    "x = 2\n",
    "\n",
    "if x > 5:\n",
    "    print(\"The value of x is greater than 5\")"
   ]
  },
  {
   "cell_type": "markdown",
   "id": "32c3c8e8",
   "metadata": {},
   "source": [
    "Nothing happened. Why? *Try changing the value of x so output is generated.*\n",
    "\n",
    "Note the syntax we're using here: The if statement ends with a colon, and the statement underneath that executes if the condition is met is indented. The if statement and the `print` line below it form a **compound statement**. It's all one instruction: if some condition is met, do a certain thing.\n",
    "\n",
    "Also note the indentation under the if statement. In many programming languages, indenting lines is simply a stylistic convention intended to increase readability. **In Python, indentation matters**. Python uses spaces for indentation. It's standard to add four spaces for each level of indentation (4 for the first indentation level, 8 for the next, and so on) but any number of spaces will work. The Tab key in Jupyter (and many other programs) will automatically add 4 spaces, so there's no need to use the space bar for this.\n",
    "\n",
    "Let's add some more code to make this more useful:"
   ]
  },
  {
   "cell_type": "code",
   "execution_count": null,
   "id": "09d3effc",
   "metadata": {},
   "outputs": [],
   "source": [
    "x = 2\n",
    "\n",
    "if x > 5:\n",
    "    print(\"The value of x is greater than 5\")\n",
    "else:\n",
    "    print(\"The value of x is less than or equal to 5\")"
   ]
  },
  {
   "cell_type": "markdown",
   "id": "4912eab2",
   "metadata": {},
   "source": [
    "With the addition of `else` we've got code that will execute whenever the condition we've specified isn't met. *Once again, try changing the value of x to see how the if-else logic works.**\n",
    "\n",
    "We can take this a bit further and add the `elif` clause:"
   ]
  },
  {
   "cell_type": "code",
   "execution_count": null,
   "id": "16c53957",
   "metadata": {},
   "outputs": [],
   "source": [
    "x = 2\n",
    "\n",
    "if x > 5:\n",
    "    print(\"The value of x is greater than 5\")\n",
    "elif x == 5:\n",
    "    print(\"The value of x is equal to 5\")\n",
    "else:\n",
    "    print(\"The value of x is less than 5\")"
   ]
  },
  {
   "cell_type": "markdown",
   "id": "2428bd71",
   "metadata": {},
   "source": [
    "This adds another condition to be tested for. If the condition in the `if` clause is false, the code will move on to the `elif` clause. If that condition is also not met, the code in the `else` clause will be executed. Any number of `elif` clauses can be used. Only one `if` clause and one `else` clause can be used.\n",
    "\n",
    "Notice the use of `==` to check if x is equal to 5. Remember that a single equal sign (`=`) is what we use to assign a value to a variable. Since that's already in use, we use 2 equal signs (`==`) to test equivalence. We can test if two values are NOT equal with `!=`.\n",
    "\n",
    "More complex Boolean logic is often employed in conditionals:"
   ]
  },
  {
   "cell_type": "code",
   "execution_count": null,
   "id": "8271a022",
   "metadata": {},
   "outputs": [],
   "source": [
    "quantity = 1\n",
    "animal = \"elephant\"\n",
    "animal_list = ['elephant', 'cat', 'mouse']\n",
    "\n",
    "if animal == \"elephant\" or quantity > 1000:\n",
    "    print(\"That definitely won't fit in a motorcycle sidecar.\")\n",
    "elif animal == \"cat\" and quantity <= 5:\n",
    "    print(\"That many cats will probably fit in a motorcycle sidecar. Seems like a bad idea though.\")\n",
    "elif animal == 'mouse':\n",
    "    print(\"This many mice will fit in a motorcycle sidecar but I don't want to be around you anymore.\")\n",
    "elif animal not in animal_list:\n",
    "    print(\"I can't be an expert on all the sorts of animals you might try to carry in a motorcycle sidecar. Try Google.\")\n",
    "else:\n",
    "    print(\"This seems illegal.\")"
   ]
  },
  {
   "cell_type": "markdown",
   "id": "0e4555ec",
   "metadata": {},
   "source": [
    "We can also nest our if statements, using multiple levels of indentation to indicate if statements that execute inside the context of another if statement:\n",
    "\n",
    "*Note the use of the find method in this example. It searches a string for a specified substring and returns the first index position of that substring if found. If not found, it returns -1.*"
   ]
  },
  {
   "cell_type": "code",
   "execution_count": null,
   "id": "68d41da7",
   "metadata": {},
   "outputs": [],
   "source": [
    "animal = \"black bear\"\n",
    "\n",
    "if animal.find(\"bear\") != -1:\n",
    "    print(\"This is a kind of bear. Here's what to do if it attacks:\")\n",
    "    if animal == \"black bear\":\n",
    "        print(\"Fight back. Resist urge to cuddle.\")\n",
    "    elif animal == \"brown bear\":\n",
    "        print(\"Play dead. Cuddling strongly discouraged.\")\n",
    "    elif animal == \"polar bear\":\n",
    "        print(\"Things can't get any worse, so why not try a cuddle.\")\n",
    "    else:\n",
    "        print(\"This is a bear I don't know about. I'm sorry for failing you.\")\n",
    "else:\n",
    "    print(\"I don't know anything about this animal. Ask me about bears or leave me alone.\")"
   ]
  },
  {
   "cell_type": "markdown",
   "id": "f148f7d8",
   "metadata": {},
   "source": [
    "### 1.7 Loops"
   ]
  },
  {
   "cell_type": "markdown",
   "id": "46e33842",
   "metadata": {},
   "source": [
    "Loops are a programming structure that allow you to repeat certain parts of your code until some condition is met or until all inputs into the loop are exhausted. The two types of loops available in Python are **while loops** and **for loops**."
   ]
  },
  {
   "cell_type": "markdown",
   "id": "624cbfcd",
   "metadata": {},
   "source": [
    "#### 1.7.1 While Loops"
   ]
  },
  {
   "cell_type": "markdown",
   "id": "e9c2beb9",
   "metadata": {},
   "source": [
    "While Loops continue to run until some condition is met:"
   ]
  },
  {
   "cell_type": "code",
   "execution_count": null,
   "id": "bdc51cae",
   "metadata": {},
   "outputs": [],
   "source": [
    "i = 1\n",
    "\n",
    "while i <= 10:\n",
    "    print(f\"This while loop has run {i} time(s).\")\n",
    "    i+=1"
   ]
  },
  {
   "cell_type": "markdown",
   "id": "ae72000c",
   "metadata": {},
   "source": [
    "Notice the structure of the while loop: 1) Any code you want to run as part of the loop is indented, 2) The statement that initiates the while loop ends with a colon, much like an if statement, 3) The loop runs as long as the condition in the while statement is true, 4) A changing condition inside the loop prevents it from executing infinitely.\n",
    "\n",
    "This is the first time we've seen something like `i+=1`. This is just a shortened version of `i = i+1`, which changes the value stored in the variable `i` to what it was plus 1. If i is 12, then `i+=1` will change it to 13. Every time the loop runs, i increments by 1. `i-=1` would work if you wanted to lower a number every time. \n",
    "\n",
    "We often combine loops and conditionals. Notice the second level of indentation:"
   ]
  },
  {
   "cell_type": "code",
   "execution_count": null,
   "id": "67db5dee",
   "metadata": {},
   "outputs": [],
   "source": [
    "i = 1\n",
    "\n",
    "while i <= 10:\n",
    "    if i == 1:\n",
    "        print(f\"This while loop has run {i} time.\")\n",
    "    if i > 1:\n",
    "        print(f\"This while loop has run {i} times.\")\n",
    "    i+=1"
   ]
  },
  {
   "cell_type": "markdown",
   "id": "448fe39e",
   "metadata": {},
   "source": [
    "In general, we use while loops when the number of times it needs to execute is indefinite. For example, if we have some incoming data stream and want to stop receiving it once it reaches a certain value, but don't know how long that will take, we might want to use a while loop. Another common use for while loops is requesting user input until an acceptable value is entered. "
   ]
  },
  {
   "cell_type": "markdown",
   "id": "c9216e81",
   "metadata": {},
   "source": [
    "#### 1.7.2 For Loops"
   ]
  },
  {
   "cell_type": "markdown",
   "id": "01d87ddb",
   "metadata": {},
   "source": [
    "For loops are used when we know at the time we start the loop how many times we want to run through it:"
   ]
  },
  {
   "cell_type": "code",
   "execution_count": null,
   "id": "280c90ea",
   "metadata": {},
   "outputs": [],
   "source": [
    "for i in [1,2,3,4,5]:\n",
    "    print(f\"This for loop has run {i} time(s).\")"
   ]
  },
  {
   "cell_type": "markdown",
   "id": "66e9db60",
   "metadata": {},
   "source": [
    "Notice that the structure takes the form of `for <variable> in <object>`. For loops in Python always iterate over an object like a list, range, or even a string. From this, we can see that in some ways a string behaves like a list:"
   ]
  },
  {
   "cell_type": "code",
   "execution_count": null,
   "id": "44832d0d",
   "metadata": {},
   "outputs": [],
   "source": [
    "for i in \"GIS\":\n",
    "    print(i)"
   ]
  },
  {
   "cell_type": "markdown",
   "id": "e24919c9",
   "metadata": {},
   "source": [
    "The `range` function generates a range object that can be iterated over with a for loop:"
   ]
  },
  {
   "cell_type": "code",
   "execution_count": null,
   "id": "d7da71dd",
   "metadata": {},
   "outputs": [],
   "source": [
    "for i in range(1,11):\n",
    "    print(i)"
   ]
  },
  {
   "cell_type": "markdown",
   "id": "91160f69",
   "metadata": {},
   "source": [
    "It's also common to nest for loops:"
   ]
  },
  {
   "cell_type": "code",
   "execution_count": null,
   "id": "9983dcc2",
   "metadata": {},
   "outputs": [],
   "source": [
    "for i in [\"red\", \"orange\", \"green\"]:\n",
    "    for j in [\"fruits\", \"vegtables\"]:\n",
    "        print(i + \" \" + j)"
   ]
  },
  {
   "cell_type": "markdown",
   "id": "5c745297",
   "metadata": {},
   "source": [
    "See how this works? Each element of the second for loop is iterated through before the first for loop moves to its next element. Let's try combining this idea with conditionals:"
   ]
  },
  {
   "cell_type": "code",
   "execution_count": null,
   "id": "c34ef1e0",
   "metadata": {},
   "outputs": [],
   "source": [
    "# print the coordiantes of a straight line that interesects (0,0) and (10,10)\n",
    "\n",
    "for x in range(0,11):\n",
    "    for y in range(0,11):\n",
    "        if x==y:\n",
    "            print(f\"({x},{y})\")"
   ]
  },
  {
   "cell_type": "markdown",
   "id": "9e49f939",
   "metadata": {},
   "source": [
    "We can use the `range` and `len` functions to loop through two lists at once. We're really looping through index positions and then getting values out of each list based on that index:"
   ]
  },
  {
   "cell_type": "code",
   "execution_count": null,
   "id": "aaf78481",
   "metadata": {},
   "outputs": [],
   "source": [
    "cities = [\"Austin\", \"Olympia\", \"Santa Fe\"]\n",
    "states = [\"Texas\", \"Washington\", \"New Mexico\"]\n",
    "capitals = {}\n",
    "\n",
    "for i in range(0,len(cities)):\n",
    "    city = cities[i]\n",
    "    state = states[i]\n",
    "    print(f\"{city} is the capital of {state}.\")"
   ]
  },
  {
   "cell_type": "markdown",
   "id": "27f3f358",
   "metadata": {},
   "source": [
    "That's enough fundamentals to get us started. Let's move on to applying all this to ArcGIS Pro!"
   ]
  },
  {
   "cell_type": "markdown",
   "id": "effc1eb5",
   "metadata": {},
   "source": [
    "## 2 Exploring and Describing GIS Datasets with ArcPy"
   ]
  },
  {
   "cell_type": "markdown",
   "id": "5f13b74b",
   "metadata": {},
   "source": [
    "Now that we've learned a bit about the fundamentals of the Python language we can get started with ArcPy. ArcPy is a Python **package**, which is a set of Python **modules**. Modules contain Python functions, classes, and variables that can be used by importing the module. They're like libraries of reusable code that provide access to tons of useful tools. \n",
    "\n",
    "There are numerous modules that are part of a Python installation by default. These make up what is known as the Python Standard Library (a link to documentation about this can be found at the bottom of this notebook). Many additional packages and modules are available through package repositories like PyPI or conda-forge (typically installed though *pip install* or *conda install*). Thankfully, we don't need to deal with any of this right now, as ArcPy and many other commonly used packages are already installed in the default ArcGIS Pro Python environment we're using.\n",
    "\n",
    "So, to use ArcPy we'll just need to import it:"
   ]
  },
  {
   "cell_type": "code",
   "execution_count": 1,
   "id": "6a637894",
   "metadata": {},
   "outputs": [],
   "source": [
    "import arcpy"
   ]
  },
  {
   "cell_type": "markdown",
   "id": "9afcf056",
   "metadata": {},
   "source": [
    "### 2.1 Setting Our Workspace and Dealing With File Paths"
   ]
  },
  {
   "cell_type": "code",
   "execution_count": null,
   "id": "47c720d4",
   "metadata": {},
   "outputs": [],
   "source": []
  },
  {
   "cell_type": "markdown",
   "id": "872951d6",
   "metadata": {},
   "source": [
    "One of the first things we want to do when using ArcPy is setting our workspace. This will be the location we retrieve data from and write data to, and most of the tools we use in our code will respect this setting.\n",
    "\n",
    "Before we do this, we need to understand a few things about file paths in Python. Python scripts or notebooks have a crrent working directory. We can get this by importing the `os` module from the Python Standard Library and using the `getcwd` function:"
   ]
  },
  {
   "cell_type": "code",
   "execution_count": 3,
   "id": "42de0d53",
   "metadata": {},
   "outputs": [
    {
     "data": {
      "text/plain": [
       "'C:\\\\Users\\\\Stephen\\\\Code\\\\python_for_arcgis_pro'"
      ]
     },
     "execution_count": 3,
     "metadata": {},
     "output_type": "execute_result"
    }
   ],
   "source": [
    "import os\n",
    "os.getcwd()"
   ]
  },
  {
   "cell_type": "markdown",
   "id": "1e8c5595",
   "metadata": {},
   "source": [
    "This should have printed the location that you're running this notebook from. We can reference file locations from this point, or as full file paths.\n",
    "\n",
    "Notice that the path above uses two backslashes instead of the customary single backslash. This is because a single backslash can create an escape sequence and cause undesired behavior:"
   ]
  },
  {
   "cell_type": "code",
   "execution_count": 4,
   "id": "f18ecc97",
   "metadata": {},
   "outputs": [
    {
     "name": "stdout",
     "output_type": "stream",
     "text": [
      "C:\\Temp\n",
      "ewproject\test\n"
     ]
    }
   ],
   "source": [
    "filepath = \"C:\\Temp\\newproject\\test\"\n",
    "print(filepath)"
   ]
  },
  {
   "cell_type": "markdown",
   "id": "fe292f33",
   "metadata": {},
   "source": [
    "In the example above, the `\\n` and `\\t` create newline and tab characters, respectively. This isn't what we want for file paths. To get around this, we can use single forward slashes (this is standard for Mac and Linux):"
   ]
  },
  {
   "cell_type": "code",
   "execution_count": 5,
   "id": "30e9f333",
   "metadata": {},
   "outputs": [
    {
     "name": "stdout",
     "output_type": "stream",
     "text": [
      "C:/Temp/GIS\n"
     ]
    }
   ],
   "source": [
    "filepath = \"C:/Temp/GIS\"\n",
    "print(filepath)"
   ]
  },
  {
   "cell_type": "markdown",
   "id": "1ef87799",
   "metadata": {},
   "source": [
    "... or the double backslashes seen above:"
   ]
  },
  {
   "cell_type": "code",
   "execution_count": 6,
   "id": "5e7abfc0",
   "metadata": {},
   "outputs": [
    {
     "name": "stdout",
     "output_type": "stream",
     "text": [
      "C:\\Temp\\GIS\n"
     ]
    }
   ],
   "source": [
    "filepath = \"C:\\\\Temp\\\\GIS\"\n",
    "print(filepath)"
   ]
  },
  {
   "cell_type": "markdown",
   "id": "7d18796e",
   "metadata": {},
   "source": [
    "Another, perhaps more convenient option is to use a **raw string**. An `r` in front of your string indicates that it should be read as-is with no escape sequences:"
   ]
  },
  {
   "cell_type": "code",
   "execution_count": 8,
   "id": "95404698",
   "metadata": {},
   "outputs": [
    {
     "name": "stdout",
     "output_type": "stream",
     "text": [
      "C:\\Temp\\GIS\n"
     ]
    }
   ],
   "source": [
    "filepath = r\"C:\\Temp\\GIS\"\n",
    "print(filepath)"
   ]
  },
  {
   "cell_type": "markdown",
   "id": "ff219b6e",
   "metadata": {},
   "source": [
    "Any of the options above will work, but the raw string method is particularly great when we're copying a file path from Windows Explorer and want to just paste it directly into our code.\n",
    "\n",
    "Now let's set our workspace:"
   ]
  },
  {
   "cell_type": "code",
   "execution_count": 9,
   "id": "56cf6b16",
   "metadata": {},
   "outputs": [],
   "source": [
    "arcpy.env.workspace = \"Data\""
   ]
  },
  {
   "cell_type": "markdown",
   "id": "8a72c1ab",
   "metadata": {},
   "source": [
    "The folder that contains this notebook also contains a Data folder. Since we can specify a file location relative to the current working directory, we only need to tell Python the name of this folder.\n",
    "\n",
    "We can verify that this is the correct workspace location by checking to make sure a dataset that we know is inside that folder exists in our workspace. We can do this with `arcpy.Exists`:"
   ]
  },
  {
   "cell_type": "code",
   "execution_count": 10,
   "id": "7c84ed2e",
   "metadata": {},
   "outputs": [
    {
     "name": "stdout",
     "output_type": "stream",
     "text": [
      "Your workspace is set correctly.\n"
     ]
    }
   ],
   "source": [
    "if arcpy.Exists(\"watersheds.shp\"):\n",
    "    print(\"Your workspace is set correctly.\")\n",
    "else:\n",
    "    print(\"Your workspace is wrong.\")"
   ]
  },
  {
   "cell_type": "markdown",
   "id": "e5ceb897",
   "metadata": {},
   "source": [
    "### 2.1 Other Environment Settings"
   ]
  },
  {
   "cell_type": "markdown",
   "id": "010f530d",
   "metadata": {},
   "source": [
    "There are many other environment settings we can set through ArcPy. using the dir() function can give us a list of the available options:"
   ]
  },
  {
   "cell_type": "code",
   "execution_count": 11,
   "id": "4cd7665e",
   "metadata": {},
   "outputs": [
    {
     "data": {
      "text/plain": [
       "['MDomain',\n",
       " 'MResolution',\n",
       " 'MTolerance',\n",
       " 'S100FeatureCatalogueFile',\n",
       " 'XYDomain',\n",
       " 'XYResolution',\n",
       " 'XYTolerance',\n",
       " 'ZDomain',\n",
       " 'ZResolution',\n",
       " 'ZTolerance',\n",
       " '__class__',\n",
       " '__delattr__',\n",
       " '__delitem__',\n",
       " '__dir__',\n",
       " '__doc__',\n",
       " '__eq__',\n",
       " '__format__',\n",
       " '__ge__',\n",
       " '__getattribute__',\n",
       " '__getitem__',\n",
       " '__gt__',\n",
       " '__hash__',\n",
       " '__init__',\n",
       " '__init_subclass__',\n",
       " '__iter__',\n",
       " '__le__',\n",
       " '__lt__',\n",
       " '__module__',\n",
       " '__ne__',\n",
       " '__new__',\n",
       " '__reduce__',\n",
       " '__reduce_ex__',\n",
       " '__repr__',\n",
       " '__setattr__',\n",
       " '__setitem__',\n",
       " '__sizeof__',\n",
       " '__slots__',\n",
       " '__str__',\n",
       " '__subclasshook__',\n",
       " '_environments',\n",
       " '_gp',\n",
       " '_refresh',\n",
       " 'addOutputsToMap',\n",
       " 'annotationTextStringFieldLength',\n",
       " 'autoCancelling',\n",
       " 'autoCommit',\n",
       " 'baDataSource',\n",
       " 'baNetworkSource',\n",
       " 'baUseDetailedAggregation',\n",
       " 'buildStatsAndRATForTempRaster',\n",
       " 'cartographicCoordinateSystem',\n",
       " 'cartographicPartitions',\n",
       " 'cellAlignment',\n",
       " 'cellSize',\n",
       " 'cellSizeProjectionMethod',\n",
       " 'coincidentPoints',\n",
       " 'compression',\n",
       " 'configKeyword',\n",
       " 'daylightSaving',\n",
       " 'extent',\n",
       " 'geographicTransformations',\n",
       " 'gpuId',\n",
       " 'isCancelled',\n",
       " 'items',\n",
       " 'iteritems',\n",
       " 'keys',\n",
       " 'maintainAttachments',\n",
       " 'maintainCurveSegments',\n",
       " 'maintainSpatialIndex',\n",
       " 'mask',\n",
       " 'matchMultidimensionalVariable',\n",
       " 'nodata',\n",
       " 'outputCoordinateSystem',\n",
       " 'outputMFlag',\n",
       " 'outputZFlag',\n",
       " 'outputZValue',\n",
       " 'overwriteOutput',\n",
       " 'packageWorkspace',\n",
       " 'parallelProcessingFactor',\n",
       " 'preserveGlobalIds',\n",
       " 'processingServer',\n",
       " 'processingServerPassword',\n",
       " 'processingServerUser',\n",
       " 'processorType',\n",
       " 'pyramid',\n",
       " 'qualifiedFieldNames',\n",
       " 'randomGenerator',\n",
       " 'rasterStatistics',\n",
       " 'recycleProcessingWorkers',\n",
       " 'referenceScale',\n",
       " 'resamplingMethod',\n",
       " 'retryOnFailures',\n",
       " 'scratchFolder',\n",
       " 'scratchGDB',\n",
       " 'scratchWorkspace',\n",
       " 'scriptWorkspace',\n",
       " 'snapRaster',\n",
       " 'terrainMemoryUsage',\n",
       " 'tileSize',\n",
       " 'timeZone',\n",
       " 'tinSaveVersion',\n",
       " 'transferDomains',\n",
       " 'transferGDBAttributeProperties',\n",
       " 'unionDimension',\n",
       " 'values',\n",
       " 'workspace']"
      ]
     },
     "execution_count": 11,
     "metadata": {},
     "output_type": "execute_result"
    }
   ],
   "source": [
    "dir(arcpy.env)"
   ]
  },
  {
   "cell_type": "markdown",
   "id": "38d7f1fa",
   "metadata": {},
   "source": [
    "Descriptions of all these environment setting can be found at: https://pro.arcgis.com/en/pro-app/latest/arcpy/classes/env.htm\n",
    "\n",
    "One commonly used environment setting is arcpy.env.overwriteOutput. If this is set to False, we'll get an error every time your script tries to create a file that already exists. We'll often have to manually delete any output feature classes or shapefiles before running the script again. This may be the desired behavior for our script, but it can sometimes be a pain when testing things out. Setting arcpy.env.overwriteOutput to True lets us run our code repeatedly without \"already exists\" errors:"
   ]
  },
  {
   "cell_type": "code",
   "execution_count": 12,
   "id": "e47274c2",
   "metadata": {},
   "outputs": [],
   "source": [
    "arcpy.env.overwriteOutput = True"
   ]
  },
  {
   "cell_type": "markdown",
   "id": "b0b60210",
   "metadata": {},
   "source": [
    "### 2.2 Describing Data"
   ]
  },
  {
   "cell_type": "markdown",
   "id": "add40dad",
   "metadata": {},
   "source": [
    "The various properties of different geospatial datasets will impact how we can use them in our scripts. ArcPy has two very similar ways of getting these properties from a geospatial data file. The first way is with `arcpy.Describe()`:"
   ]
  },
  {
   "cell_type": "code",
   "execution_count": null,
   "id": "b8dbcdd6",
   "metadata": {},
   "outputs": [],
   "source": [
    "arcpy.Describe(\"bike_routes.shp\")"
   ]
  },
  {
   "cell_type": "markdown",
   "id": "f44006c3",
   "metadata": {},
   "source": [
    "In a Notebook, we get all of the information about the dataset if we call this function. However, this is not the case if we use it in a .py script or from the command line. Even in a Notebook, we need a way to get a specific piece of this information. Using `arcpy.describe()` returns a Describe object:"
   ]
  },
  {
   "cell_type": "code",
   "execution_count": null,
   "id": "49202395",
   "metadata": {},
   "outputs": [],
   "source": [
    "desc = arcpy.Describe(\"bike_routes.shp\")\n",
    "type(desc)"
   ]
  },
  {
   "cell_type": "markdown",
   "id": "0966af0e",
   "metadata": {},
   "source": [
    "We can access various attributes of the dataset in the same way we'd access the attributes of any other object:"
   ]
  },
  {
   "cell_type": "code",
   "execution_count": null,
   "id": "b6325762",
   "metadata": {},
   "outputs": [],
   "source": [
    "print(desc.shapeType)"
   ]
  },
  {
   "cell_type": "markdown",
   "id": "f6ce6170",
   "metadata": {},
   "source": [
    "The other way to describe geospatial datasets is with the data access module:"
   ]
  },
  {
   "cell_type": "code",
   "execution_count": null,
   "id": "9698f5c6",
   "metadata": {},
   "outputs": [],
   "source": [
    "desc = arcpy.da.Describe(\"bike_routes.shp\")\n",
    "print(desc)"
   ]
  },
  {
   "cell_type": "markdown",
   "id": "b18f5176",
   "metadata": {},
   "source": [
    "Instead of returning a Describe object, this way of describing a dataset returns a dictionary. We can access each item in this dictionary like we would with any other dictionary:"
   ]
  },
  {
   "cell_type": "code",
   "execution_count": null,
   "id": "7e722258",
   "metadata": {},
   "outputs": [],
   "source": [
    "print(desc[\"shapeType\"])"
   ]
  },
  {
   "cell_type": "markdown",
   "id": "79e631ca",
   "metadata": {},
   "source": [
    "Let's get a better look at all the dictionary keys available here:"
   ]
  },
  {
   "cell_type": "code",
   "execution_count": null,
   "id": "d15dcf6c",
   "metadata": {},
   "outputs": [],
   "source": [
    "for key in desc.keys():\n",
    "    print(key)\n",
    "\n",
    "**Try using arcpy.da.describe() to find the coordinate system for watersheds.shp**\n",
    "\n",
    "# Try it here!\n",
    "\n",
    "\n",
    "\n",
    "\n",
    "# Solution\n",
    "desc = arcpy.da.Describe(\"watersheds.shp\")\n",
    "sr =desc[\"spatialReference\"]\n",
    "print(sr.name)\n",
    "\n",
    "We can get a great deal of useful information about a dataset's file location from `arcpy.da.Describe()` or `arcpy.Describe()`:\n",
    "\n",
    "desc = arcpy.da.Describe(\"bike_routes.shp\")\n",
    "\n",
    "print(f\"datasetType: {desc['datasetType']}\")\n",
    "print(f\"dataType: {desc['dataType']}\")\n",
    "print(f\"extension: {desc['extension']}\")\n",
    "print(f\"path: {desc['path']}\")\n",
    "print(f\"catalogPath: {desc['catalogPath']}\")\n",
    "print(f\"file: {desc['file']}\")\n",
    "print(f\"baseName: {desc['baseName']}\")\n",
    "print(f\"name: {desc['name']}\")"
   ]
  },
  {
   "cell_type": "markdown",
   "id": "f8aece33",
   "metadata": {},
   "source": [
    "### 2.3 Listing Data"
   ]
  },
  {
   "cell_type": "code",
   "execution_count": null,
   "id": "76e6356c",
   "metadata": {},
   "outputs": [],
   "source": [
    "Getting a list of what data is available in our workspace is an important part of many AcrPy-based scripts. `arcpy.ListFeatureClasses()` is the tool we use for this:\n",
    "\n",
    "arcpy.ListFeatureClasses()\n",
    "\n",
    "Let's go ahead and change our workspace to be the geodatabase in our data folder. The code below will make that switch and list the data in the new workspace. Only run this once:\n",
    "\n",
    "import os\n",
    "current_ws = arcpy.env.workspace\n",
    "arcpy.env.workspace = os.path.join(current_ws, \"DC.gdb\")\n",
    "fclist = arcpy.ListFeatureClasses()\n",
    "print(fclist)\n",
    "\n",
    "This is a list of all the feature classes in the \"DC\" geodatabase. We can narrow things down a bit further with a wildcard search...\n",
    "\n",
    "fclist = arcpy.ListFeatureClasses(\"b*\")\n",
    "print(fclist)\n",
    "\n",
    "...or by feature type:\n",
    "\n",
    "*Note: feature_type is the second optional parameter for ListFeatureClasses() so we need to pass in an empty parameter for wild_card or identify feature type explicitly as the optional parameter.*\n",
    "\n",
    "fclist = arcpy.ListFeatureClasses(\"\", \"point\")\n",
    "print(fclist)\n",
    "\n",
    "`arcpy.ListRasters()` and `arcpy.ListFiles()` work similarly. The former will list all rasters in a workspace and the latter will list all files in a workspace, with output similar to os.listdir().\n",
    "\n",
    "`arcpy.ListWorkspaces()` will list all workspaces in your workspace. This may sound strange at first, but if you were to define a folder as your workspace, `arcpy.ListWorkspaces()`will return any subfolders or geodatabases contained in that folder.\n",
    "\n",
    "`arcpy.ListDatasets()` will return any datasets in a workspace.This is typically used for Feature Datasets, but will also return geometric networks, networks, raster catalogs, topologies, and others: \n",
    "\n",
    "\n",
    "arcpy.ListDatasets()\n",
    "\n",
    "The last method for listing geospatial data we'll look at is `arcpy.da.Walk()`. Let's switch back to our original workspace for this:\n",
    "\n",
    "# Copy your workspace from the top of the notebook here\n",
    "\n",
    "arcpy.env.worksapce = \n",
    "\n",
    "walk = arcpy.da.Walk()\n",
    "for dirpath, dirnames, filenames in walk:\n",
    "    print(dirpath, dirnames, filenames)\n",
    "\n",
    "This syntax is bit convoluted, but we're essentially walking down through the file structure of our workspace. In this case, `dirpath` is the file path we're listing files and directories/geodatabases/datasets in. `dirnames` is a list of directories inside our `dirpath`, and filenames is a list of files in that path. \n",
    "\n",
    "We start with our workspace as the first `dirpath` and see that it has one `dirname` (\"DC.gdb\") and several `filenames` (bike_routes.shp, etc.) in it. Then we move into \"DC.gdb\" and see that it includes the \"Transportation\" `dirname` and several `filenames` (neighborhoods, etc). We keep going deeper like this until we reach the bottom (each `dirpath` contains no `dirnames`).\n",
    "\n",
    "We can loop through variables we use in `arcpy.da.Walk()` to print a list of of every file contained in a directory and its subdirectories:\n",
    "\n",
    "import os\n",
    "walk = arcpy.da.Walk()\n",
    "for dirpath, dirnames, filenames in walk:\n",
    "    for file in filenames:\n",
    "        print(os.path.join(dirpath, file))\n",
    "\n",
    "### 2.1 Looping Through Lists of Geospatial Data\n",
    "\n",
    "Since ArcPy data listing functions like `arcpy.ListFeatureClasses()` return a list, we can use for loops to run some process on every feature class in a workspace. The code below will get the shapefiles from our workspace and copy them into the geodatabase that's also in our workspace:\n",
    "\n",
    "outgdb = arcpy.ListWorkspaces()[0]\n",
    "print(f\"Geodatabase path is: {outgdb}\")\n",
    "\n",
    "fcs = arcpy.ListFeatureClasses()\n",
    "\n",
    "for fc in fcs:\n",
    "    desc = arcpy.da.Describe(fc)\n",
    "    outfc = os.path.join(outgdb, desc[\"baseName\"])\n",
    "    arcpy.management.CopyFeatures(fc, outfc)\n",
    "    print(f\"{fc} copied to {outfc}\")\n",
    "\n",
    "**Try combining this with some of the data description techniques we learned above and an if statement to buffer only Polyline feature classes by 100 feet. Use the code below as a starting point:**\n",
    "\n",
    "# Try it here\n",
    "\n",
    "fcs = arcpy.ListFeatureClasses()\n",
    "\n",
    "for fc in fcs:\n",
    "    desc = arcpy.Describe(fc)\n",
    "    outname = desc.baseName + \"_buffer\"\n",
    "\n",
    "    \n",
    "    \n",
    "\n",
    "\n",
    "# Solution\n",
    "\n",
    "fcs = arcpy.ListFeatureClasses()\n",
    "\n",
    "for fc in fcs:\n",
    "    desc = arcpy.Describe(fc)\n",
    "    if desc.shapeType == \"Polyline\":\n",
    "        outname = desc.baseName + \"_buffer\"\n",
    "        arcpy.analysis.Buffer(fc, outname, \"100 feet\")\n",
    "\n",
    "### 2.2 Listing Fields\n",
    "\n",
    "Listing the fields present in a feature class works a lot like listing the feature classes in a workspace, with few important differences:\n",
    "\n",
    "fields = arcpy.ListFields(\"bike_routes.shp\")\n",
    "print(fields)\n",
    "\n",
    "Instead of returning a path, `arcpy.ListFields()` returns a list of Field objects. We need to do a little more work to access the data contained in these objects:\n",
    "\n",
    "fields = arcpy.ListFields(\"watersheds.shp\")\n",
    "for field in fields:\n",
    "    print(f\"{field.name} is a field of type {field.type} with a length of {field.length}\")\n",
    "\n",
    "It's fairly common to need a list of field names in a Python script. Since `arcpy.ListFields()` returns a list of field objects, this has to be built manually.\n",
    "\n",
    "**Try creating a list of all the field names for the public_schools feature class inside DC.gdb**\n",
    "\n",
    "# Try it here!\n",
    "\n",
    "field_names = []\n",
    "\n",
    "\n",
    "\n",
    "# Solution\n",
    "\n",
    "field_names = []\n",
    "\n",
    "for f in arcpy.ListFields(\"DC.gdb/public_schools\"):\n",
    "    field_names.append(f.name)\n",
    "    \n",
    "print(field_names)\n",
    "\n",
    "## 3 Error Handling Revisited\n",
    "\n",
    "Handling ArcPy geoprocessing tool errors can be done with `arcpy.ExecuteError`. It works just like the other Python Error classes that we've seen, but is meant to specifically catch geoprocessing errors. We can then use `arcpy.GetMessages()` to access and print or write out those errors. Message severity can be passed into `arcpy.GetMessages()`, so if we only want error messages, `arcpy.GetMessages(2)` will do that:\n",
    "\n",
    "try:\n",
    "    result = arcpy.GetCount_management(\"invalid.shp\")\n",
    "    \n",
    "except arcpy.ExecuteError:    \n",
    "    print(arcpy.GetMessages(2))    "
   ]
  },
  {
   "cell_type": "code",
   "execution_count": null,
   "id": "cbcaab72",
   "metadata": {},
   "outputs": [],
   "source": []
  },
  {
   "cell_type": "code",
   "execution_count": null,
   "id": "503a3959",
   "metadata": {},
   "outputs": [],
   "source": []
  },
  {
   "cell_type": "code",
   "execution_count": null,
   "id": "ef2d7548",
   "metadata": {},
   "outputs": [],
   "source": []
  },
  {
   "cell_type": "code",
   "execution_count": null,
   "id": "96b03515",
   "metadata": {},
   "outputs": [],
   "source": []
  },
  {
   "cell_type": "code",
   "execution_count": null,
   "id": "3c860a6f",
   "metadata": {},
   "outputs": [],
   "source": []
  },
  {
   "cell_type": "code",
   "execution_count": null,
   "id": "fca75f6a",
   "metadata": {},
   "outputs": [],
   "source": []
  },
  {
   "cell_type": "markdown",
   "id": "74a7abba",
   "metadata": {},
   "source": [
    "## 3 Geoprocessing with Arcpy"
   ]
  },
  {
   "cell_type": "code",
   "execution_count": null,
   "id": "4faa1396",
   "metadata": {},
   "outputs": [],
   "source": []
  },
  {
   "cell_type": "code",
   "execution_count": null,
   "id": "d7fe04da",
   "metadata": {},
   "outputs": [],
   "source": []
  },
  {
   "cell_type": "code",
   "execution_count": null,
   "id": "25843fee",
   "metadata": {},
   "outputs": [],
   "source": []
  },
  {
   "cell_type": "code",
   "execution_count": null,
   "id": "e62e1425",
   "metadata": {},
   "outputs": [],
   "source": []
  },
  {
   "cell_type": "code",
   "execution_count": null,
   "id": "c185a253",
   "metadata": {},
   "outputs": [],
   "source": []
  },
  {
   "cell_type": "code",
   "execution_count": null,
   "id": "b38b1b7c",
   "metadata": {},
   "outputs": [],
   "source": []
  },
  {
   "cell_type": "code",
   "execution_count": null,
   "id": "a9c4af4b",
   "metadata": {},
   "outputs": [],
   "source": []
  },
  {
   "cell_type": "markdown",
   "id": "87a030c1",
   "metadata": {},
   "source": [
    "## Resources"
   ]
  },
  {
   "cell_type": "markdown",
   "id": "80e094cd",
   "metadata": {},
   "source": [
    "https://docs.python.org/3/library/index.html"
   ]
  }
 ],
 "metadata": {
  "kernelspec": {
   "display_name": "Python 3 (ipykernel)",
   "language": "python",
   "name": "python3"
  },
  "language_info": {
   "codemirror_mode": {
    "name": "ipython",
    "version": 3
   },
   "file_extension": ".py",
   "mimetype": "text/x-python",
   "name": "python",
   "nbconvert_exporter": "python",
   "pygments_lexer": "ipython3",
   "version": "3.9.16"
  }
 },
 "nbformat": 4,
 "nbformat_minor": 5
}
